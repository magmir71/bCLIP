{
 "cells": [
  {
   "cell_type": "markdown",
   "id": "cd1e1ccb-9d0c-42b5-8355-bc4522fba824",
   "metadata": {},
   "source": [
    "**Sections:**<a name=\"contents\"></a>\n",
    "\n",
    "[Control data download](#control_data_download)\n",
    "\n",
    "[Create symbolink link copies for all experimental fastq files](#symb_link_input)\n",
    "\n",
    "[Quality control](#QC_analysis)"
   ]
  },
  {
   "cell_type": "code",
   "execution_count": 2,
   "id": "33182800-a2e4-47c3-8c18-590b03541527",
   "metadata": {},
   "outputs": [],
   "source": [
    "from __future__ import (absolute_import, division,\n",
    "                        print_function, unicode_literals)\n",
    "\n",
    "import warnings\n",
    "warnings.simplefilter('ignore')\n",
    "\n",
    "# general purpose packages\n",
    "import pandas as pd\n",
    "import numpy as np\n",
    "import os\n",
    "import json\n",
    "import time\n",
    "import re\n",
    "import csv\n",
    "import subprocess\n",
    "import sys\n",
    "\n",
    "import scipy.stats as stats\n",
    "import statsmodels.stats as smstats\n",
    "import statsmodels.api as sm\n",
    "from statsmodels.stats.multitest import multipletests\n",
    "\n",
    "from sklearn.preprocessing import StandardScaler\n",
    "from sklearn.decomposition import PCA\n",
    "\n",
    "import umap\n",
    "import rpy2\n",
    "\n",
    "from multiprocessing import Process, Manager, Pool\n",
    "import multiprocessing\n",
    "from functools import partial\n",
    "\n",
    "from collections import Counter\n",
    "\n",
    "import seaborn as sns; sns.set()\n",
    "\n",
    "import matplotlib\n",
    "matplotlib.style.use('seaborn')\n",
    "matplotlib.use('Agg')\n",
    "import matplotlib.pyplot as plt\n",
    "matplotlib.rcParams['backend'] = \"Qt5Agg\"\n",
    "import matplotlib.ticker as ticker\n",
    "from matplotlib.ticker import FuncFormatter\n",
    "\n",
    "from IPython.display import display, Image\n",
    "\n",
    "from adjustText import adjust_text\n",
    "import builtins\n",
    "%matplotlib inline\n",
    "\n",
    "# for normalization\n",
    "from sklearn.linear_model import QuantileRegressor\n",
    "\n",
    "# for working with yaml files\n",
    "import ruamel.yaml\n",
    "\n",
    "# for working with genomic intervals\n",
    "import pyranges as pr"
   ]
  },
  {
   "cell_type": "code",
   "execution_count": 3,
   "id": "1cb77454-c2f4-4c14-aa4a-c37d6ab961da",
   "metadata": {},
   "outputs": [],
   "source": [
    "def get_pvalue_star(pval, thr=0.05):\n",
    "    if thr == 0.05:\n",
    "        if pval < 0.001:\n",
    "            return \"***\"\n",
    "        elif pval < 0.01:\n",
    "            return \"**\"\n",
    "        elif pval < 0.05:\n",
    "            return \"*\"\n",
    "        else:\n",
    "            return \"ns\"\n",
    "    elif thr == 0.1:\n",
    "        if pval < 0.001:\n",
    "            return \"***\"\n",
    "        elif pval < 0.01:\n",
    "            return \"**\"\n",
    "        elif pval < 0.1:\n",
    "            return \"*\"\n",
    "        else:\n",
    "            return \"ns\""
   ]
  },
  {
   "cell_type": "code",
   "execution_count": 4,
   "id": "4c68b8f6-6004-4243-8dc3-5053639c85d7",
   "metadata": {},
   "outputs": [
    {
     "data": {
      "text/plain": [
       "0"
      ]
     },
     "execution_count": 4,
     "metadata": {},
     "output_type": "execute_result"
    }
   ],
   "source": [
    "# paths to subdirectories\n",
    "subdirs = {}\n",
    "\n",
    "subdirs['main_project_dir'] = '/scicore/home/zavolan/GROUP/StefanieCLIP/'\n",
    "subdirs['wf_dir'] = '/scicore/home/zavolan/mirono0000/Projects/bCLIP/bclip_workflow/'\n",
    "\n",
    "subdirs['zarp_dir'] = '/scicore/home/zavolan/mirono0000/libs/zarp/'\n",
    "subdirs['htsinfer_dir'] = '/scicore/home/zavolan/mirono0000/libs/htsinfer/'\n",
    "subdirs['zarp_config_dir'] = subdirs['zarp_dir']+'config/'\n",
    "\n",
    "subdirs['mouse_annotation_dir'] = '/scicore/home/zavolan/GROUP/Genomes/mus_musculus/'\n",
    "subdirs['human_annotation_dir'] = '/scicore/home/zavolan/GROUP/Genomes/homo_sapiens/'\n",
    "\n",
    "# shared project folder \n",
    "subdirs['shared_project_dir'] = subdirs['main_project_dir']+'aleksei/'\n",
    "subdirs['temp_dir'] = subdirs['shared_project_dir']+'temp_dir/'\n",
    "subdirs['slurm_dir'] = subdirs['temp_dir']+'slurm/'\n",
    "subdirs['scripts_dir'] = subdirs['shared_project_dir']+'scripts/'\n",
    "subdirs['figures_dir'] = subdirs['shared_project_dir']+'figures/'\n",
    "\n",
    "subdirs['fastq_dir'] = subdirs['shared_project_dir']+'input_fastq/'\n",
    "subdirs['metadata_dir'] = subdirs['shared_project_dir']+'metadata/'\n",
    "subdirs['wf_output_dir'] = subdirs['shared_project_dir']+'output/'\n",
    "\n",
    "# paths to files\n",
    "file_paths = {}\n",
    "### genome annotation files\n",
    "file_paths['mouse_genome_file'] = subdirs['mouse_annotation_dir']+'GRCm39.primary_assembly.genome.fa'\n",
    "file_paths['mouse_annotation_file'] = subdirs['mouse_annotation_dir']+'gencode.vM32.annotation.gtf'\n",
    "file_paths['mouse_RNAcentral_annotation_file'] = subdirs['mouse_annotation_dir']+'mus_musculus.GRCm39.gff3.gz'\n",
    "\n",
    "file_paths['mouse_prot_coding_gtf'] = subdirs['mouse_annotation_dir']+'coding.gencode.vM32.annotation.gtf'\n",
    "file_paths['mouse_collapsed_prot_coding_gtf'] = subdirs['mouse_annotation_dir']+'collapsed.coding.gencode.vM32.annotation.gtf'\n",
    "\n",
    "file_paths['mouse_enriched_annotation_file'] = subdirs['mouse_annotation_dir']+'enriched.gencode.vM32.annotation.gtf' # added RNA species from RNA central\n",
    "file_paths['mouse_collapsed_enriched_annotation_file'] = subdirs['mouse_annotation_dir']+'collapsed.enriched.gencode.vM32.annotation.gtf'\n",
    "\n",
    "file_paths['human_genome_file'] = subdirs['human_annotation_dir']+'GRCh38.primary_assembly.genome.fa'\n",
    "file_paths['human_annotation_file'] = subdirs['human_annotation_dir']+'hg38_v42/gencode.v42.annotation.gtf'\n",
    "file_paths['human_RNAcentral_annotation_file'] = subdirs['human_annotation_dir']+'hg38_v42/homo_sapiens.GRCh38.gff3.gz'\n",
    "\n",
    "file_paths['human_enriched_annotation_file'] = subdirs['human_annotation_dir']+'hg38_v42/enriched.gencode.v42.annotation.gtf'\n",
    "\n",
    "file_paths['htsinfer_transcripts_file'] = '/scicore/home/zavolan/GROUP/Genomes/htsinfer_deduplicated_transcripts.fasta'\n",
    "\n",
    "### control data\n",
    "file_paths['control_metadata_file'] = subdirs['metadata_dir']+'SRA_CONTROL_DATA.tsv'\n",
    "\n",
    "os.system('mkdir -p '+' '.join(list(subdirs.values()))) # create all subdirs"
   ]
  },
  {
   "cell_type": "markdown",
   "id": "c2b4c3dc-5324-4ad9-8eb8-0cbacf05afde",
   "metadata": {},
   "source": [
    "# Make enriched gtf file for mouse and human"
   ]
  },
  {
   "cell_type": "code",
   "execution_count": 43,
   "id": "cd8b50f4-1edc-4957-b471-1b9748bd3a23",
   "metadata": {},
   "outputs": [],
   "source": [
    "organisms = ['mouse','human']\n",
    "\n",
    "for organism in organisms:\n",
    "    command = 'samtools faidx '+file_paths[organism+'_genome_file']\n",
    "    out = subprocess.check_output(command, shell=True)\n",
    "\n",
    "    gtf_df = pd.read_csv(file_paths[organism+'_annotation_file'],delimiter=\"\\t\",index_col=None,header=None,skiprows=5)\n",
    "\n",
    "    rna_central = pd.read_csv(file_paths[organism+'_RNAcentral_annotation_file'],delimiter=\"\\t\",index_col=None,header=None,skiprows=1,compression='gzip')\n",
    "    rna_central[2] = rna_central[2].str.replace('noncoding_exon','exon')\n",
    "    rna_central['gene_biotype'] = rna_central[8].str.split(';type=|;',expand=True)[1]\n",
    "    rna_central['gene_source'] = 'RNA_central'\n",
    "    rna_central['gene_id'] = rna_central[8].str.split('ID=|;|:',expand=True)[4]\n",
    "\n",
    "    rna_central_exons = rna_central.loc[rna_central[2]=='exon'].copy().reset_index(drop=True)\n",
    "    rna_central_exons['exon_id'] = rna_central_exons['gene_id']+'.transcript'+'.'+rna_central_exons[8].str.split('ID=|;|:',expand=True)[5]\n",
    "    rna_central_exons['exon_number'] = rna_central_exons[8].str.split('ID=|;|:',expand=True)[5].str.split('exon',expand=True).iloc[:, -1]\n",
    "    rna_central_exons[8] = 'gene_id \"'+rna_central_exons['gene_id']+'\"; transcript_id \"'+rna_central_exons['gene_id']+'.transcript'+'\"; exon_number \"'+rna_central_exons['exon_number']+'\"; gene_source \"'+rna_central_exons['gene_source']+'\"; gene_biotype \"'+rna_central_exons['gene_biotype']+'\"; transcript_source \"'+rna_central_exons['gene_source']+'\"; transcript_biotype \"'+rna_central_exons['gene_biotype']+'\"; exon_id \"'+rna_central_exons['exon_id']+'\"; tag \"'+rna_central['gene_source']+'\";'\n",
    "    rna_central_exons['order']=3\n",
    "\n",
    "    rna_central_exons['transcript_id'] = rna_central_exons['gene_id']+'.transcript'\n",
    "    rna_central_exons['exon_coords'] = rna_central_exons[3].astype('str')+'_'+rna_central_exons[4].astype('str')+','\n",
    "    rna_central_gr_transcripts = rna_central_exons.groupby([0,6,'transcript_id']).agg({'exon_coords':sum}).reset_index()\n",
    "    rna_central_gr_transcripts['transcript_alt_id'] = rna_central_gr_transcripts[0].astype('str')+'_'+rna_central_gr_transcripts[6]+'_'+rna_central_gr_transcripts['exon_coords']\n",
    "\n",
    "    gtf_df_exons = gtf_df.loc[gtf_df[2]=='exon'].reset_index(drop=True)\n",
    "    gtf_df_exons['transcript_id'] = gtf_df_exons[8].str.split('transcript_id \"',expand=True)[1].str.split('\"',expand=True)[0]\n",
    "    gtf_df_exons['exon_coords'] = gtf_df_exons[3].astype('str')+'_'+gtf_df_exons[4].astype('str')+','\n",
    "    gtf_df_gr_transcripts = gtf_df_exons.groupby([0,6,'transcript_id']).agg({'exon_coords':sum}).reset_index()\n",
    "    gtf_df_gr_transcripts['transcript_alt_id'] = gtf_df_gr_transcripts[0].astype('str')+'_'+gtf_df_gr_transcripts[6]+'_'+gtf_df_gr_transcripts['exon_coords']\n",
    "    ensembl_transcripts = list(gtf_df_gr_transcripts['transcript_alt_id'].unique())\n",
    "\n",
    "    preserve_transcripts_list = list(rna_central_gr_transcripts.loc[~rna_central_gr_transcripts['transcript_alt_id'].isin(ensembl_transcripts)]['transcript_id'].unique()) # when a transcript is present in ensemble and RNA central, prioritize ensemble\n",
    "    rna_central_exons = rna_central_exons.loc[rna_central_exons['transcript_id'].isin(preserve_transcripts_list)].reset_index(drop=True)\n",
    "    rna_central['transcript_id'] = rna_central['gene_id']+'.transcript'\n",
    "    rna_central = rna_central.loc[rna_central['transcript_id'].isin(preserve_transcripts_list)].reset_index(drop=True)\n",
    "\n",
    "    rna_central_exons = rna_central_exons[list(range(0,9))+['gene_id','order']]\n",
    "\n",
    "    rna_central_transcripts = rna_central.loc[rna_central[2]=='transcript'].copy().reset_index(drop=True)\n",
    "    rna_central_transcripts[8] = 'gene_id \"'+rna_central_transcripts['gene_id']+'\"; transcript_id \"'+rna_central_transcripts['gene_id']+'.transcript'+'\"; gene_source \"'+rna_central_transcripts['gene_source']+'\"; gene_biotype \"'+rna_central_transcripts['gene_biotype']+'\"; transcript_source \"'+rna_central_transcripts['gene_source']+'\"; transcript_biotype \"'+rna_central_transcripts['gene_biotype']+'\"; tag \"'+rna_central_transcripts['gene_source']+'\";'\n",
    "    rna_central_transcripts['order']=2\n",
    "    rna_central_transcripts = rna_central_transcripts[list(range(0,9))+['gene_id','order']]\n",
    "\n",
    "    rna_central_genes = rna_central.loc[rna_central[2]=='transcript'].copy().reset_index(drop=True)\n",
    "    rna_central_genes[2] = 'gene'\n",
    "    rna_central_genes[8] = 'gene_id \"'+rna_central_genes['gene_id']+'\"; gene_source \"'+rna_central_genes['gene_source']+'\"; gene_biotype \"'+rna_central_genes['gene_biotype']+'\";'\n",
    "    rna_central_genes['order']=1\n",
    "    rna_central_genes = rna_central_genes[list(range(0,9))+['gene_id','order']]\n",
    "\n",
    "    rna_central_gtf = pd.concat([rna_central_genes,rna_central_transcripts,rna_central_exons]).sort_values(['gene_id','order']).reset_index(drop=True).drop(['gene_id','order'],1)\n",
    "\n",
    "    # save standard annotation enriched with RNA central\n",
    "    enriched_gtf = pd.concat([gtf_df,rna_central_gtf]).reset_index(drop=True)\n",
    "    genome_fai = pd.read_csv(file_paths[organism+'_genome_file']+'.fai',delimiter=\"\\t\",index_col=None,header=None)\n",
    "    enriched_gtf = pd.merge(genome_fai[[0]],enriched_gtf,how='inner',on=0)\n",
    "    enriched_gtf.to_csv(file_paths[organism+'_enriched_annotation_file'], sep=str('\\t'),header=False,index=None,quoting=csv.QUOTE_NONE)"
   ]
  },
  {
   "cell_type": "markdown",
   "id": "f0fb3013-1902-44b7-8170-4e2df01cb46d",
   "metadata": {},
   "source": [
    "# Download control data<a name=\"control_data_download\"></a>"
   ]
  },
  {
   "cell_type": "code",
   "execution_count": 6,
   "id": "694105d9-66b5-4b69-b413-6df83be29102",
   "metadata": {},
   "outputs": [
    {
     "name": "stdout",
     "output_type": "stream",
     "text": [
      "/scicore/home/zavolan/GROUP/StefanieCLIP/aleksei/scripts/zarp_download_control_samples.sh\n"
     ]
    }
   ],
   "source": [
    "# download CONTROL samples from SRA using zarp\n",
    " \n",
    "f = open(subdirs['scripts_dir']+'zarp_download_control_samples.sh', \"w\")\n",
    "preambula = \\\n",
    "\"\"\"#!/bin/bash\n",
    "source ~/.bashrc\n",
    "conda activate zarp\n",
    "\"\"\"\n",
    "f.write(preambula)\n",
    "\n",
    "command = \"\"\"snakemake --snakefile=\"\"\"+'\"'+subdirs['zarp_dir']+\"\"\"workflow/rules/sra_download.smk\" \\\n",
    "--profile=\"\"\"+'\"'+subdirs['zarp_dir']+\"\"\"profiles/local-conda\" \\\n",
    "--config samples=\"\"\"+'\"'+file_paths['control_metadata_file']+'\"'+\"\"\" \\\n",
    "outdir=\"\"\"+'\"'+subdirs['fastq_dir']+'\"'+\"\"\" \\\n",
    "samples_out=\"\"\"+'\"'+subdirs['metadata_dir']+'CONTROL_processed_metadata.tsv'+'\"'+\"\"\" \\\n",
    "log_dir=\"\"\"+'\"'+subdirs['slurm_dir']+'zarp_download_logs/'+'\"'+\"\"\" \\\n",
    "cluster_log_dir=\"\"\"+'\"'+subdirs['slurm_dir']+'\"'\n",
    "\n",
    "# command = command.replace(' --snakefile','--list-input-changes --snakefile')+' --forcerun $('+command+')'\n",
    "f.write(command)\n",
    "f.close()\n",
    "print(subdirs['scripts_dir']+'zarp_download_control_samples.sh')"
   ]
  },
  {
   "cell_type": "code",
   "execution_count": 10,
   "id": "74319397-a06b-4430-8cb6-4cb49e2972ab",
   "metadata": {},
   "outputs": [],
   "source": [
    "# delete unnecessary .sra files\n",
    "os.system(\"\"\"find \"\"\"+subdirs['fastq_dir']+\"\"\" -name '*.sra' > \"\"\"+subdirs['temp_dir']+\"\"\"sra_file_paths.tsv\"\"\")\n",
    "sra_file_paths = pd.read_csv(subdirs['temp_dir']+\"\"\"sra_file_paths.tsv\"\"\",delimiter=\"\\t\",\n",
    "                                   index_col=None,header=None)\n",
    "sra_file_paths.columns = ['path']\n",
    "command = 'rm '+' '.join(sra_file_paths['path'])\n",
    "out = subprocess.check_output(command, shell=True)"
   ]
  },
  {
   "cell_type": "markdown",
   "id": "b65972e4-f29c-40cd-9153-383e2d7f80ff",
   "metadata": {},
   "source": [
    "# Create symbolink link copies for all experimental fastq files<a name=\"symb_link_input\"></a>"
   ]
  },
  {
   "cell_type": "code",
   "execution_count": 15,
   "id": "73c12a13-997c-45ea-ab67-482df3b66775",
   "metadata": {},
   "outputs": [],
   "source": [
    "# description file for experimental samples\n",
    "experimental_samples = pd.read_csv(subdirs['metadata_dir']+'experimental_samples.tsv',delimiter=\"\\t\",\n",
    "                                   index_col=None,header=0)"
   ]
  },
  {
   "cell_type": "code",
   "execution_count": 16,
   "id": "1aa2e0e0-bbd7-4adb-9844-1801a9983363",
   "metadata": {},
   "outputs": [],
   "source": [
    "exp_file_paths = experimental_samples[['lane_file','barcode_file']].drop_duplicates().reset_index(drop=True)\n",
    "\n",
    "os.system(\"\"\"find \"\"\"+subdirs['main_project_dir']+'input/'+\"\"\" -name '*.fastq.gz' > \"\"\"+subdirs['temp_dir']+\"\"\"exper_fastq_file_paths.tsv\"\"\")\n",
    "fastq_file_paths = pd.read_csv(subdirs['temp_dir']+'exper_fastq_file_paths.tsv',delimiter=\"\\t\",\n",
    "                                   index_col=None,header=None)\n",
    "fastq_file_paths.columns = ['lane_file_path']\n",
    "fastq_file_paths['lane_file'] = fastq_file_paths['lane_file_path'].str.split('/',expand=True).iloc[:, -1]\n",
    "exp_file_paths = pd.merge(fastq_file_paths,exp_file_paths,how='inner',on=['lane_file'])\n",
    "\n",
    "os.system(\"\"\"find \"\"\"+subdirs['main_project_dir']+'input/'+\"\"\" -name '*.fasta' > \"\"\"+subdirs['temp_dir']+\"\"\"barcode_fasta_files.tsv\"\"\")\n",
    "barcode_fasta_files = pd.read_csv(subdirs['temp_dir']+'barcode_fasta_files.tsv',delimiter=\"\\t\",\n",
    "                                   index_col=None,header=None)\n",
    "barcode_fasta_files.columns = ['barcode_file_path']\n",
    "barcode_fasta_files['barcode_file'] = barcode_fasta_files['barcode_file_path'].str.split('/',expand=True).iloc[:, -1]\n",
    "exp_file_paths = pd.merge(barcode_fasta_files,exp_file_paths,how='inner',on=['barcode_file'])\n",
    "\n",
    "# \n",
    "exp_file_paths['wfstart_lane_file_path'] = subdirs['fastq_dir']+exp_file_paths['lane_file'].str.replace('.fastq.gz','')+'/'+exp_file_paths['lane_file']\n",
    "exp_file_paths['wfstart_barcode_file_path'] = subdirs['fastq_dir']+exp_file_paths['lane_file'].str.replace('.fastq.gz','')+'/'+exp_file_paths['barcode_file']\n",
    "\n",
    "for index, row in exp_file_paths.iterrows():\n",
    "    sample_name = row['lane_file'].replace('.fastq.gz','')\n",
    "    command = 'mkdir -p '+subdirs['fastq_dir']+sample_name+'/'\n",
    "    out = subprocess.check_output(command, shell=True)\n",
    "    command = 'ln -f -s '+row['lane_file_path']+' '+row['wfstart_lane_file_path']\n",
    "    out = subprocess.check_output(command, shell=True)\n",
    "    command = 'ln -f -s '+row['barcode_file_path']+' '+row['wfstart_barcode_file_path']\n",
    "    out = subprocess.check_output(command, shell=True)"
   ]
  },
  {
   "cell_type": "code",
   "execution_count": 17,
   "id": "52e2ec5e-73c5-45af-90b2-8f715effee51",
   "metadata": {},
   "outputs": [],
   "source": [
    "experimental_samples = pd.merge(experimental_samples,\n",
    "                                exp_file_paths[['lane_file','barcode_file','wfstart_lane_file_path','wfstart_barcode_file_path']],\n",
    "                                how='inner',on=['lane_file','barcode_file'])"
   ]
  },
  {
   "cell_type": "code",
   "execution_count": 18,
   "id": "ef37a843-b850-4c97-8d4b-d73e14f08538",
   "metadata": {},
   "outputs": [],
   "source": [
    "experimental_samples = experimental_samples.drop(['lane_file','barcode_file'],1).rename(columns={'wfstart_lane_file_path':'lane_file','wfstart_barcode_file_path':'barcode_file'})"
   ]
  },
  {
   "cell_type": "code",
   "execution_count": 19,
   "id": "de094c13-4df4-4f46-8ba9-6d038abb1d78",
   "metadata": {},
   "outputs": [],
   "source": [
    "experimental_samples['genome_file'] = file_paths['mouse_genome_file']\n",
    "experimental_samples['gtf_file'] = file_paths['mouse_enriched_annotation_file']\n",
    "experimental_samples = experimental_samples[['name','lane_name','lane_file','kmer','barcode_file','exp_ctl','batch','condition_name','genome_file','gtf_file']]"
   ]
  },
  {
   "cell_type": "code",
   "execution_count": 20,
   "id": "1f55cf54-3cad-4b25-9ba4-df382876380b",
   "metadata": {},
   "outputs": [],
   "source": [
    "# description file for public samples\n",
    "public_samples = pd.read_csv(subdirs['metadata_dir']+'public_samples.tsv',delimiter=\"\\t\",\n",
    "                                   index_col=None,header=0)\n",
    "public_samples['genome_file'] = public_samples.apply(lambda x:file_paths['mouse_genome_file'] if x['batch'].endswith('_mESC') else file_paths['human_genome_file'],1)\n",
    "public_samples['gtf_file'] = public_samples.apply(lambda x:file_paths['mouse_enriched_annotation_file'] if x['batch'].endswith('_mESC') else file_paths['human_enriched_annotation_file'],1)\n",
    "public_samples['lane_name'] = 'f'+public_samples['name']\n",
    "public_samples['organism'] = public_samples.apply(lambda x: 'mouse' if x['batch'].endswith('_mESC') else 'human',1)"
   ]
  },
  {
   "cell_type": "code",
   "execution_count": 21,
   "id": "ac8e8c26-b52a-49fb-8697-4471ef48cc1e",
   "metadata": {},
   "outputs": [],
   "source": [
    "experimental_samples['lane_name'] = 'f'+experimental_samples['barcode_file'].str.split('barcodes_',expand=True).iloc[:, -1].str.replace('.fasta','')\n",
    "experimental_samples['organism'] = 'mouse'"
   ]
  },
  {
   "cell_type": "code",
   "execution_count": 22,
   "id": "d9d4fce2-bc0e-4783-a3b4-27a7af3f254a",
   "metadata": {},
   "outputs": [],
   "source": [
    "# merge with public data\n",
    "start_samples = pd.concat([public_samples,experimental_samples]).reset_index(drop=True)"
   ]
  },
  {
   "cell_type": "code",
   "execution_count": 23,
   "id": "7f994efa-1c3b-4d49-b627-58f18d7cdb0e",
   "metadata": {},
   "outputs": [],
   "source": [
    "start_samples['kmer'] = start_samples['kmer'].fillna('XXXXXXX')"
   ]
  },
  {
   "cell_type": "code",
   "execution_count": 24,
   "id": "1d4036b6-d3a0-485c-bd78-f4f47acb66e6",
   "metadata": {},
   "outputs": [],
   "source": [
    "start_samples.to_csv(subdirs['metadata_dir']+'start_samples.tsv', sep=str('\\t'),header=True,index=None,quoting=csv.QUOTE_NONE)"
   ]
  },
  {
   "cell_type": "code",
   "execution_count": 46,
   "id": "e6c0cc88-b38c-4f36-ad05-a926ff9d4277",
   "metadata": {},
   "outputs": [
    {
     "data": {
      "text/plain": [
       "'/scicore/home/zavolan/GROUP/StefanieCLIP/aleksei/metadata/start_samples.tsv'"
      ]
     },
     "execution_count": 46,
     "metadata": {},
     "output_type": "execute_result"
    }
   ],
   "source": [
    "subdirs['metadata_dir']+'start_samples.tsv'"
   ]
  },
  {
   "cell_type": "code",
   "execution_count": 47,
   "id": "9c64876a-71f7-4414-a7e0-19c1888ea0e9",
   "metadata": {},
   "outputs": [
    {
     "data": {
      "text/plain": [
       "'/scicore/home/zavolan/GROUP/StefanieCLIP/aleksei/output/'"
      ]
     },
     "execution_count": 47,
     "metadata": {},
     "output_type": "execute_result"
    }
   ],
   "source": [
    "subdirs['wf_output_dir']"
   ]
  },
  {
   "cell_type": "code",
   "execution_count": 48,
   "id": "6e439693-d92d-4e31-9d78-25d75f802d85",
   "metadata": {},
   "outputs": [
    {
     "data": {
      "text/plain": [
       "'/scicore/home/zavolan/GROUP/StefanieCLIP/aleksei/temp_dir/slurm/'"
      ]
     },
     "execution_count": 48,
     "metadata": {},
     "output_type": "execute_result"
    }
   ],
   "source": [
    "subdirs['slurm_dir']"
   ]
  },
  {
   "cell_type": "markdown",
   "id": "0503e062-3f22-47f5-826b-adc0f0f062fe",
   "metadata": {},
   "source": [
    "# Run main WF"
   ]
  },
  {
   "cell_type": "code",
   "execution_count": 87,
   "id": "7aadc4eb-1445-46a3-81f6-7b72249f9b4e",
   "metadata": {},
   "outputs": [],
   "source": [
    "sample_file_name = subdirs['temp_dir']+'bam_file_paths.tsv'\n",
    "\n",
    "os.system(\"\"\"find \"\"\"+'/scicore/home/zavolan/GROUP/StefanieCLIP/aleksei/output/'+\"\"\" -name '*.Aligned.sortedByCoord.out.bam' > \"\"\"+sample_file_name)\n",
    "bam_file_paths = pd.read_csv(sample_file_name,delimiter=\"\\t\",\n",
    "                                   index_col=None,header=None)\n",
    "bam_file_paths['dir'] = bam_file_paths.apply(lambda x:os.path.dirname(x[0]), 1)\n",
    "command = 'rm -r '+' '.join(bam_file_paths['dir'])\n",
    "out = subprocess.check_output(command, shell=True)"
   ]
  },
  {
   "cell_type": "code",
   "execution_count": null,
   "id": "ca3f7b78-27ef-4284-be47-648b5fa70dce",
   "metadata": {},
   "outputs": [],
   "source": []
  },
  {
   "cell_type": "code",
   "execution_count": 7,
   "id": "6baeae43-e94c-4dee-a5c2-57c645d19787",
   "metadata": {},
   "outputs": [
    {
     "data": {
      "text/plain": [
       "'snakemake --snakefile Snakefile --configfile config.yaml --printshellcmds --use-singularity --singularity-args \"--bind /scicore/home/zavolan/GROUP/StefanieCLIP/,/scicore/home/zavolan/GROUP/Genomes/\" --cluster-config cluster.json --cores 500 --local-cores 10 --jobs 100 --cluster \"sbatch --cpus-per-task={cluster.threads} --mem={cluster.mem} --qos={cluster.queue} --time={cluster.time} --output={cluster.out}\" --nolock -np'"
      ]
     },
     "execution_count": 7,
     "metadata": {},
     "output_type": "execute_result"
    }
   ],
   "source": [
    "command = \"\"\"snakemake \\\n",
    "--snakefile Snakefile \\\n",
    "--configfile config.yaml \\\n",
    "--printshellcmds \\\n",
    "--use-singularity \\\n",
    "--singularity-args \"--bind /scicore/home/zavolan/GROUP/StefanieCLIP/,/scicore/home/zavolan/GROUP/Genomes/\" \\\n",
    "--cluster-config cluster.json \\\n",
    "--cores 500 \\\n",
    "--local-cores 10 \\\n",
    "--jobs 100 \\\n",
    "--cluster \"sbatch \\\n",
    "--cpus-per-task={cluster.threads} \\\n",
    "--mem={cluster.mem} \\\n",
    "--qos={cluster.queue} \\\n",
    "--time={cluster.time} \\\n",
    "--output={cluster.out}\" \\\n",
    "--nolock \\\n",
    "-np\"\"\"\n",
    "command"
   ]
  },
  {
   "cell_type": "markdown",
   "id": "3f96e4ce-67e6-4c43-ac52-253345ccb286",
   "metadata": {},
   "source": [
    "# Quality control analysis<a name=\"QC_analysis\"></a>"
   ]
  },
  {
   "cell_type": "code",
   "execution_count": 5,
   "id": "6fb5894a-2bb1-43f8-a6b8-e4ee20652773",
   "metadata": {},
   "outputs": [],
   "source": [
    "sample_metadata = pd.read_csv(subdirs['metadata_dir']+'start_samples.tsv',delimiter=\"\\t\",index_col=None,header=0)"
   ]
  },
  {
   "cell_type": "code",
   "execution_count": 6,
   "id": "ae2cd4c3-a62a-444e-8804-6b028d319fad",
   "metadata": {},
   "outputs": [
    {
     "data": {
      "text/html": [
       "<div>\n",
       "<style scoped>\n",
       "    .dataframe tbody tr th:only-of-type {\n",
       "        vertical-align: middle;\n",
       "    }\n",
       "\n",
       "    .dataframe tbody tr th {\n",
       "        vertical-align: top;\n",
       "    }\n",
       "\n",
       "    .dataframe thead th {\n",
       "        text-align: right;\n",
       "    }\n",
       "</style>\n",
       "<table border=\"1\" class=\"dataframe\">\n",
       "  <thead>\n",
       "    <tr style=\"text-align: right;\">\n",
       "      <th></th>\n",
       "      <th>name</th>\n",
       "      <th>lane_name</th>\n",
       "      <th>lane_file</th>\n",
       "      <th>kmer</th>\n",
       "      <th>barcode_file</th>\n",
       "      <th>exp_ctl</th>\n",
       "      <th>batch</th>\n",
       "      <th>condition_name</th>\n",
       "      <th>genome_file</th>\n",
       "      <th>gtf_file</th>\n",
       "      <th>organism</th>\n",
       "    </tr>\n",
       "  </thead>\n",
       "  <tbody>\n",
       "    <tr>\n",
       "      <th>0</th>\n",
       "      <td>SRR15070630</td>\n",
       "      <td>fSRR15070630</td>\n",
       "      <td>/scicore/home/zavolan/GROUP/StefanieCLIP/aleks...</td>\n",
       "      <td>XXXXXXX</td>\n",
       "      <td>NaN</td>\n",
       "      <td>exp</td>\n",
       "      <td>public_bCLIP_mESC</td>\n",
       "      <td>NRDE2</td>\n",
       "      <td>/scicore/home/zavolan/GROUP/Genomes/mus_muscul...</td>\n",
       "      <td>/scicore/home/zavolan/GROUP/Genomes/mus_muscul...</td>\n",
       "      <td>mouse</td>\n",
       "    </tr>\n",
       "    <tr>\n",
       "      <th>1</th>\n",
       "      <td>SRR15070631</td>\n",
       "      <td>fSRR15070631</td>\n",
       "      <td>/scicore/home/zavolan/GROUP/StefanieCLIP/aleks...</td>\n",
       "      <td>XXXXXXX</td>\n",
       "      <td>NaN</td>\n",
       "      <td>exp</td>\n",
       "      <td>public_bCLIP_mESC</td>\n",
       "      <td>NRDE2</td>\n",
       "      <td>/scicore/home/zavolan/GROUP/Genomes/mus_muscul...</td>\n",
       "      <td>/scicore/home/zavolan/GROUP/Genomes/mus_muscul...</td>\n",
       "      <td>mouse</td>\n",
       "    </tr>\n",
       "    <tr>\n",
       "      <th>2</th>\n",
       "      <td>SRR15070632</td>\n",
       "      <td>fSRR15070632</td>\n",
       "      <td>/scicore/home/zavolan/GROUP/StefanieCLIP/aleks...</td>\n",
       "      <td>XXXXXXX</td>\n",
       "      <td>NaN</td>\n",
       "      <td>exp</td>\n",
       "      <td>public_bCLIP_mESC</td>\n",
       "      <td>NRDE2_200AANenddel</td>\n",
       "      <td>/scicore/home/zavolan/GROUP/Genomes/mus_muscul...</td>\n",
       "      <td>/scicore/home/zavolan/GROUP/Genomes/mus_muscul...</td>\n",
       "      <td>mouse</td>\n",
       "    </tr>\n",
       "    <tr>\n",
       "      <th>3</th>\n",
       "      <td>SRR15070633</td>\n",
       "      <td>fSRR15070633</td>\n",
       "      <td>/scicore/home/zavolan/GROUP/StefanieCLIP/aleks...</td>\n",
       "      <td>XXXXXXX</td>\n",
       "      <td>NaN</td>\n",
       "      <td>exp</td>\n",
       "      <td>public_bCLIP_mESC</td>\n",
       "      <td>NRDE2_200AANenddel</td>\n",
       "      <td>/scicore/home/zavolan/GROUP/Genomes/mus_muscul...</td>\n",
       "      <td>/scicore/home/zavolan/GROUP/Genomes/mus_muscul...</td>\n",
       "      <td>mouse</td>\n",
       "    </tr>\n",
       "    <tr>\n",
       "      <th>4</th>\n",
       "      <td>SRR15070635</td>\n",
       "      <td>fSRR15070635</td>\n",
       "      <td>/scicore/home/zavolan/GROUP/StefanieCLIP/aleks...</td>\n",
       "      <td>XXXXXXX</td>\n",
       "      <td>NaN</td>\n",
       "      <td>exp</td>\n",
       "      <td>public_bCLIP_mESC</td>\n",
       "      <td>Nrde2_D174Rmut</td>\n",
       "      <td>/scicore/home/zavolan/GROUP/Genomes/mus_muscul...</td>\n",
       "      <td>/scicore/home/zavolan/GROUP/Genomes/mus_muscul...</td>\n",
       "      <td>mouse</td>\n",
       "    </tr>\n",
       "  </tbody>\n",
       "</table>\n",
       "</div>"
      ],
      "text/plain": [
       "          name     lane_name  \\\n",
       "0  SRR15070630  fSRR15070630   \n",
       "1  SRR15070631  fSRR15070631   \n",
       "2  SRR15070632  fSRR15070632   \n",
       "3  SRR15070633  fSRR15070633   \n",
       "4  SRR15070635  fSRR15070635   \n",
       "\n",
       "                                           lane_file     kmer barcode_file  \\\n",
       "0  /scicore/home/zavolan/GROUP/StefanieCLIP/aleks...  XXXXXXX          NaN   \n",
       "1  /scicore/home/zavolan/GROUP/StefanieCLIP/aleks...  XXXXXXX          NaN   \n",
       "2  /scicore/home/zavolan/GROUP/StefanieCLIP/aleks...  XXXXXXX          NaN   \n",
       "3  /scicore/home/zavolan/GROUP/StefanieCLIP/aleks...  XXXXXXX          NaN   \n",
       "4  /scicore/home/zavolan/GROUP/StefanieCLIP/aleks...  XXXXXXX          NaN   \n",
       "\n",
       "  exp_ctl              batch      condition_name  \\\n",
       "0     exp  public_bCLIP_mESC               NRDE2   \n",
       "1     exp  public_bCLIP_mESC               NRDE2   \n",
       "2     exp  public_bCLIP_mESC  NRDE2_200AANenddel   \n",
       "3     exp  public_bCLIP_mESC  NRDE2_200AANenddel   \n",
       "4     exp  public_bCLIP_mESC      Nrde2_D174Rmut   \n",
       "\n",
       "                                         genome_file  \\\n",
       "0  /scicore/home/zavolan/GROUP/Genomes/mus_muscul...   \n",
       "1  /scicore/home/zavolan/GROUP/Genomes/mus_muscul...   \n",
       "2  /scicore/home/zavolan/GROUP/Genomes/mus_muscul...   \n",
       "3  /scicore/home/zavolan/GROUP/Genomes/mus_muscul...   \n",
       "4  /scicore/home/zavolan/GROUP/Genomes/mus_muscul...   \n",
       "\n",
       "                                            gtf_file organism  \n",
       "0  /scicore/home/zavolan/GROUP/Genomes/mus_muscul...    mouse  \n",
       "1  /scicore/home/zavolan/GROUP/Genomes/mus_muscul...    mouse  \n",
       "2  /scicore/home/zavolan/GROUP/Genomes/mus_muscul...    mouse  \n",
       "3  /scicore/home/zavolan/GROUP/Genomes/mus_muscul...    mouse  \n",
       "4  /scicore/home/zavolan/GROUP/Genomes/mus_muscul...    mouse  "
      ]
     },
     "execution_count": 6,
     "metadata": {},
     "output_type": "execute_result"
    }
   ],
   "source": [
    "sample_metadata.head()"
   ]
  },
  {
   "cell_type": "code",
   "execution_count": null,
   "id": "743a34e4-1c76-49fa-9523-f9734e4dbc4b",
   "metadata": {},
   "outputs": [],
   "source": []
  }
 ],
 "metadata": {
  "kernelspec": {
   "display_name": "Python [conda env:miniconda3-py310]",
   "language": "python",
   "name": "conda-env-miniconda3-py310-py"
  },
  "language_info": {
   "codemirror_mode": {
    "name": "ipython",
    "version": 3
   },
   "file_extension": ".py",
   "mimetype": "text/x-python",
   "name": "python",
   "nbconvert_exporter": "python",
   "pygments_lexer": "ipython3",
   "version": "3.10.2"
  }
 },
 "nbformat": 4,
 "nbformat_minor": 5
}
