{
 "cells": [
  {
   "cell_type": "markdown",
   "id": "cd1e1ccb-9d0c-42b5-8355-bc4522fba824",
   "metadata": {},
   "source": [
    "**Sections:**<a name=\"contents\"></a>\n",
    "\n",
    "[Control data download](#control_data_download)\n",
    "\n",
    "[Create symbolink link copies for all experimental fastq files](#symb_link_input)\n",
    "\n",
    "[Quality control](#QC_analysis)"
   ]
  },
  {
   "cell_type": "code",
   "execution_count": 1,
   "id": "33182800-a2e4-47c3-8c18-590b03541527",
   "metadata": {},
   "outputs": [],
   "source": [
    "from __future__ import (absolute_import, division,\n",
    "                        print_function, unicode_literals)\n",
    "\n",
    "import warnings\n",
    "warnings.simplefilter('ignore')\n",
    "\n",
    "# general purpose packages\n",
    "import pandas as pd\n",
    "import numpy as np\n",
    "import os\n",
    "import json\n",
    "import time\n",
    "import re\n",
    "import csv\n",
    "import subprocess\n",
    "import sys\n",
    "\n",
    "import scipy.stats as stats\n",
    "import statsmodels.stats as smstats\n",
    "import statsmodels.api as sm\n",
    "from statsmodels.stats.multitest import multipletests\n",
    "\n",
    "from sklearn.preprocessing import StandardScaler\n",
    "from sklearn.decomposition import PCA\n",
    "\n",
    "import umap\n",
    "import rpy2\n",
    "\n",
    "from multiprocessing import Process, Manager, Pool\n",
    "import multiprocessing\n",
    "from functools import partial\n",
    "\n",
    "from collections import Counter\n",
    "\n",
    "import seaborn as sns; sns.set()\n",
    "\n",
    "import matplotlib\n",
    "matplotlib.style.use('seaborn')\n",
    "matplotlib.use('Agg')\n",
    "import matplotlib.pyplot as plt\n",
    "matplotlib.rcParams['backend'] = \"Qt5Agg\"\n",
    "import matplotlib.ticker as ticker\n",
    "from matplotlib.ticker import FuncFormatter\n",
    "\n",
    "from IPython.display import display, Image\n",
    "\n",
    "from adjustText import adjust_text\n",
    "import builtins\n",
    "%matplotlib inline\n",
    "\n",
    "# for normalization\n",
    "from sklearn.linear_model import QuantileRegressor\n",
    "\n",
    "# for working with yaml files\n",
    "import ruamel.yaml\n",
    "\n",
    "# for working with genomic intervals\n",
    "import pyranges as pr\n",
    "\n",
    "import itertools"
   ]
  },
  {
   "cell_type": "code",
   "execution_count": 2,
   "id": "1cb77454-c2f4-4c14-aa4a-c37d6ab961da",
   "metadata": {},
   "outputs": [],
   "source": [
    "def get_pvalue_star(pval, thr=0.05):\n",
    "    if thr == 0.05:\n",
    "        if pval < 0.001:\n",
    "            return \"***\"\n",
    "        elif pval < 0.01:\n",
    "            return \"**\"\n",
    "        elif pval < 0.05:\n",
    "            return \"*\"\n",
    "        else:\n",
    "            return \"ns\"\n",
    "    elif thr == 0.1:\n",
    "        if pval < 0.001:\n",
    "            return \"***\"\n",
    "        elif pval < 0.01:\n",
    "            return \"**\"\n",
    "        elif pval < 0.1:\n",
    "            return \"*\"\n",
    "        else:\n",
    "            return \"ns\""
   ]
  },
  {
   "cell_type": "code",
   "execution_count": 3,
   "id": "4c68b8f6-6004-4243-8dc3-5053639c85d7",
   "metadata": {},
   "outputs": [
    {
     "data": {
      "text/plain": [
       "0"
      ]
     },
     "execution_count": 3,
     "metadata": {},
     "output_type": "execute_result"
    }
   ],
   "source": [
    "# paths to subdirectories\n",
    "subdirs = {}\n",
    "\n",
    "subdirs['main_project_dir'] = '/scicore/home/zavolan/GROUP/StefanieCLIP/'\n",
    "subdirs['wf_dir'] = '/scicore/home/zavolan/mirono0000/Projects/bCLIP/bclip_workflow/'\n",
    "\n",
    "subdirs['zarp_dir'] = '/scicore/home/zavolan/mirono0000/libs/zarp/'\n",
    "subdirs['htsinfer_dir'] = '/scicore/home/zavolan/mirono0000/libs/htsinfer/'\n",
    "subdirs['zarp_config_dir'] = subdirs['zarp_dir']+'config/'\n",
    "\n",
    "subdirs['mouse_annotation_dir'] = '/scicore/home/zavolan/GROUP/Genomes/mus_musculus/'\n",
    "subdirs['human_annotation_dir'] = '/scicore/home/zavolan/GROUP/Genomes/homo_sapiens/'\n",
    "\n",
    "# shared project folder \n",
    "subdirs['shared_project_dir'] = subdirs['main_project_dir']+'aleksei/'\n",
    "subdirs['temp_dir'] = subdirs['shared_project_dir']+'temp_dir/'\n",
    "subdirs['slurm_dir'] = subdirs['temp_dir']+'slurm/'\n",
    "subdirs['scripts_dir'] = subdirs['shared_project_dir']+'scripts/'\n",
    "subdirs['figures_dir'] = subdirs['shared_project_dir']+'figures/'\n",
    "\n",
    "subdirs['fastq_dir'] = subdirs['shared_project_dir']+'input_fastq/'\n",
    "subdirs['metadata_dir'] = subdirs['shared_project_dir']+'metadata/'\n",
    "subdirs['wf_output_dir'] = subdirs['shared_project_dir']+'output/'\n",
    "\n",
    "# paths to files\n",
    "file_paths = {}\n",
    "### genome annotation files\n",
    "file_paths['mouse_genome_file'] = subdirs['mouse_annotation_dir']+'GRCm39.primary_assembly.genome.fa'\n",
    "file_paths['mouse_annotation_file'] = subdirs['mouse_annotation_dir']+'gencode.vM32.annotation.gtf'\n",
    "file_paths['mouse_RNAcentral_annotation_file'] = subdirs['mouse_annotation_dir']+'mus_musculus.GRCm39.gff3.gz'\n",
    "\n",
    "file_paths['mouse_prot_coding_gtf'] = subdirs['mouse_annotation_dir']+'coding.gencode.vM32.annotation.gtf'\n",
    "file_paths['mouse_collapsed_prot_coding_gtf'] = subdirs['mouse_annotation_dir']+'collapsed.coding.gencode.vM32.annotation.gtf'\n",
    "\n",
    "file_paths['mouse_enriched_annotation_file'] = subdirs['mouse_annotation_dir']+'enriched.gencode.vM32.annotation.gtf' # added RNA species from RNA central\n",
    "file_paths['mouse_collapsed_enriched_annotation_file'] = subdirs['mouse_annotation_dir']+'collapsed.enriched.gencode.vM32.annotation.gtf'\n",
    "\n",
    "file_paths['human_genome_file'] = subdirs['human_annotation_dir']+'GRCh38.primary_assembly.genome.fa'\n",
    "file_paths['human_annotation_file'] = subdirs['human_annotation_dir']+'hg38_v42/gencode.v42.annotation.gtf'\n",
    "file_paths['human_RNAcentral_annotation_file'] = subdirs['human_annotation_dir']+'hg38_v42/homo_sapiens.GRCh38.gff3.gz'\n",
    "\n",
    "file_paths['human_enriched_annotation_file'] = subdirs['human_annotation_dir']+'hg38_v42/enriched.gencode.v42.annotation.gtf'\n",
    "\n",
    "file_paths['htsinfer_transcripts_file'] = '/scicore/home/zavolan/GROUP/Genomes/htsinfer_deduplicated_transcripts.fasta'\n",
    "\n",
    "### control data\n",
    "file_paths['control_metadata_file_1'] = subdirs['metadata_dir']+'SRA_CONTROL_DATA_1.tsv'\n",
    "file_paths['control_metadata_file_2'] = subdirs['metadata_dir']+'SRA_CONTROL_DATA_2.tsv'\n",
    "\n",
    "os.system('mkdir -p '+' '.join(list(subdirs.values()))) # create all subdirs"
   ]
  },
  {
   "cell_type": "markdown",
   "id": "dba977f4-1108-4198-a4f6-7fb99a613f96",
   "metadata": {},
   "source": [
    "# move bam files to dedicated folder"
   ]
  },
  {
   "cell_type": "code",
   "execution_count": 6,
   "id": "1284c585-7cd4-477f-95c6-c6dfb1de6114",
   "metadata": {},
   "outputs": [
    {
     "data": {
      "text/plain": [
       "0"
      ]
     },
     "execution_count": 6,
     "metadata": {},
     "output_type": "execute_result"
    }
   ],
   "source": [
    "os.system(\"\"\"find \"\"\"+subdirs['wf_output_dir']+'samples/'+\"\"\" -name '*.0_um.sorted.bam' > \"\"\"+subdirs['temp_dir']+\"\"\"low_dupl_files.tsv\"\"\")"
   ]
  },
  {
   "cell_type": "code",
   "execution_count": 8,
   "id": "a5bd03de-6427-482e-ac12-cf552f06dfb2",
   "metadata": {},
   "outputs": [
    {
     "data": {
      "text/plain": [
       "0"
      ]
     },
     "execution_count": 8,
     "metadata": {},
     "output_type": "execute_result"
    }
   ],
   "source": [
    "os.system(\"\"\"find \"\"\"+subdirs['wf_output_dir']+'samples/'+\"\"\" -name '*.dedup.sorted.indexed.low_duplicate.bam' > \"\"\"+subdirs['temp_dir']+\"\"\"low_dupl_files_1.tsv\"\"\")"
   ]
  },
  {
   "cell_type": "code",
   "execution_count": 24,
   "id": "6a819a9e-6d32-4f9c-b4d8-c7bf19bf756a",
   "metadata": {},
   "outputs": [],
   "source": [
    "low_dupl_files = pd.read_csv(subdirs['temp_dir']+\"\"\"low_dupl_files.tsv\"\"\",delimiter=\"\\t\",\n",
    "                                   index_col=None,header=None)\n",
    "low_dupl_files_1 = pd.read_csv(subdirs['temp_dir']+\"\"\"low_dupl_files_1.tsv\"\"\",delimiter=\"\\t\",\n",
    "                                   index_col=None,header=None)\n",
    "low_dupl_files['prior'] = 1\n",
    "low_dupl_files_1['prior'] = 2\n",
    "low_dupl_files = pd.concat([low_dupl_files,low_dupl_files_1]).reset_index(drop=True)\n",
    "low_dupl_files['sample'] = low_dupl_files.apply(lambda x:x[0].split('/samples/')[1].split('/')[0],1)\n",
    "low_dupl_files = low_dupl_files.sort_values(['sample','prior']).drop_duplicates('sample').reset_index(drop=True)\n",
    "low_dupl_files[[0]].to_csv(subdirs['temp_dir']+\"\"\"low_dupl_files_to_retain.tsv\"\"\", sep=str('\\t'),header=False,index=None,quoting=csv.QUOTE_NONE)"
   ]
  },
  {
   "cell_type": "code",
   "execution_count": 34,
   "id": "3f17db1a-239b-4f29-a2b0-0a4c21c03ccc",
   "metadata": {},
   "outputs": [],
   "source": [
    "low_dupl_files[1] = low_dupl_files[0]+'.bai'"
   ]
  },
  {
   "cell_type": "code",
   "execution_count": 35,
   "id": "dee2fef4-e767-47be-99f2-fdf7fac69e22",
   "metadata": {},
   "outputs": [],
   "source": [
    "low_dupl_files[[1]].to_csv(subdirs['temp_dir']+\"\"\"low_dupl_bai_files_to_retain.tsv\"\"\", sep=str('\\t'),header=False,index=None,quoting=csv.QUOTE_NONE)"
   ]
  },
  {
   "cell_type": "code",
   "execution_count": 11,
   "id": "cd0d7e06-abd5-4d8d-b901-b6189d191cf0",
   "metadata": {},
   "outputs": [
    {
     "data": {
      "text/plain": [
       "'/scicore/home/zavolan/GROUP/StefanieCLIP/aleksei/output/samples/N4BP2C_replicate1/map_genome_all/read_categories/0_um/N4BP2C_replicate1.0_um.sorted.bam'"
      ]
     },
     "execution_count": 11,
     "metadata": {},
     "output_type": "execute_result"
    }
   ],
   "source": [
    "low_dupl_files.iloc[0][0]"
   ]
  },
  {
   "cell_type": "code",
   "execution_count": 12,
   "id": "8105b8d6-77d3-4d22-ac15-ff22e44ed9de",
   "metadata": {},
   "outputs": [
    {
     "data": {
      "text/plain": [
       "'/scicore/home/zavolan/GROUP/StefanieCLIP/aleksei/output/samples/N4BP2C_replicate1/map_genome_all/N4BP2C_replicate1.dedup.sorted.indexed.low_duplicate.bam'"
      ]
     },
     "execution_count": 12,
     "metadata": {},
     "output_type": "execute_result"
    }
   ],
   "source": [
    "low_dupl_files_1.iloc[0][0]"
   ]
  },
  {
   "cell_type": "code",
   "execution_count": 7,
   "id": "0e0dc894-ed10-48b7-84f2-0356bec08bc4",
   "metadata": {},
   "outputs": [
    {
     "data": {
      "text/plain": [
       "'/scicore/home/zavolan/GROUP/StefanieCLIP/aleksei/temp_dir/low_dupl_files.tsv'"
      ]
     },
     "execution_count": 7,
     "metadata": {},
     "output_type": "execute_result"
    }
   ],
   "source": [
    "subdirs['temp_dir']+\"\"\"low_dupl_files.tsv\"\"\""
   ]
  },
  {
   "cell_type": "code",
   "execution_count": 32,
   "id": "50ddeb46-c299-400b-85d2-1f0693d853c6",
   "metadata": {},
   "outputs": [
    {
     "data": {
      "text/plain": [
       "'mkdir -p ./low_dupl_bam_files && cat /scicore/home/zavolan/GROUP/StefanieCLIP/aleksei/temp_dir/low_dupl_files_to_retain.tsv | xargs -I % cp % ./low_dupl_bam_files'"
      ]
     },
     "execution_count": 32,
     "metadata": {},
     "output_type": "execute_result"
    }
   ],
   "source": [
    "\"mkdir -p ./low_dupl_bam_files && cat \"+subdirs['temp_dir']+\"\"\"low_dupl_files_to_retain.tsv\"\"\"+\" | xargs -I % cp % \"+'./low_dupl_bam_files'"
   ]
  },
  {
   "cell_type": "code",
   "execution_count": 38,
   "id": "be2b7837-4bb2-44c7-b692-fa13fed17fc8",
   "metadata": {},
   "outputs": [
    {
     "data": {
      "text/plain": [
       "'mkdir -p ./low_dupl_bam_files && cat /scicore/home/zavolan/GROUP/StefanieCLIP/aleksei/temp_dir/low_dupl_bai_files_to_retain.tsv | xargs -I % cp % ./low_dupl_bam_files'"
      ]
     },
     "execution_count": 38,
     "metadata": {},
     "output_type": "execute_result"
    }
   ],
   "source": [
    "\"mkdir -p ./low_dupl_bam_files && cat \"+subdirs['temp_dir']+\"\"\"low_dupl_bai_files_to_retain.tsv\"\"\"+\" | xargs -I % cp % \"+'./low_dupl_bam_files'"
   ]
  },
  {
   "cell_type": "code",
   "execution_count": 40,
   "id": "5378f01a-0907-414d-a4fb-0fc13ee99bff",
   "metadata": {},
   "outputs": [
    {
     "data": {
      "text/plain": [
       "'tar -czvf low_duplication_bam_files.tar.gz ./low_dupl_bam_files'"
      ]
     },
     "execution_count": 40,
     "metadata": {},
     "output_type": "execute_result"
    }
   ],
   "source": [
    "\"\"\"tar -czvf low_duplication_bam_files.tar.gz ./low_dupl_bam_files\"\"\""
   ]
  },
  {
   "cell_type": "markdown",
   "id": "c2b4c3dc-5324-4ad9-8eb8-0cbacf05afde",
   "metadata": {},
   "source": [
    "# Make enriched gtf file for mouse and human"
   ]
  },
  {
   "cell_type": "code",
   "execution_count": 4,
   "id": "cd8b50f4-1edc-4957-b471-1b9748bd3a23",
   "metadata": {
    "jupyter": {
     "source_hidden": true
    }
   },
   "outputs": [],
   "source": [
    "# organisms = ['mouse','human']\n",
    "organisms = ['mouse']\n",
    "\n",
    "for organism in organisms:\n",
    "    command = 'samtools faidx '+file_paths[organism+'_genome_file']\n",
    "    out = subprocess.check_output(command, shell=True)\n",
    "\n",
    "    gtf_df = pd.read_csv(file_paths[organism+'_annotation_file'],delimiter=\"\\t\",index_col=None,header=None,skiprows=5)\n",
    "\n",
    "    rna_central = pd.read_csv(file_paths[organism+'_RNAcentral_annotation_file'],delimiter=\"\\t\",index_col=None,header=None,skiprows=1,compression='gzip')\n",
    "    rna_central[2] = rna_central[2].str.replace('noncoding_exon','exon')\n",
    "    rna_central['gene_biotype'] = rna_central[8].str.split(';type=|;',expand=True)[1]\n",
    "    rna_central['gene_source'] = 'RNA_central'\n",
    "    rna_central['gene_id'] = rna_central[8].str.split('ID=|;|:',expand=True)[4]\n",
    "\n",
    "    rna_central_exons = rna_central.loc[rna_central[2]=='exon'].copy().reset_index(drop=True)\n",
    "    rna_central_exons['exon_id'] = rna_central_exons['gene_id']+'.transcript'+'.'+rna_central_exons[8].str.split('ID=|;|:',expand=True)[5]\n",
    "    rna_central_exons['exon_number'] = rna_central_exons[8].str.split('ID=|;|:',expand=True)[5].str.split('exon',expand=True).iloc[:, -1]\n",
    "    rna_central_exons[8] = 'gene_id \"'+rna_central_exons['gene_id']+'\"; transcript_id \"'+rna_central_exons['gene_id']+'.transcript'+'\"; exon_number \"'+rna_central_exons['exon_number']+'\"; gene_source \"'+rna_central_exons['gene_source']+'\"; gene_type \"'+rna_central_exons['gene_biotype']+'\"; transcript_source \"'+rna_central_exons['gene_source']+'\"; transcript_type \"'+rna_central_exons['gene_biotype']+'\"; exon_id \"'+rna_central_exons['exon_id']+'\"; tag \"'+rna_central['gene_source']+'\";'\n",
    "    rna_central_exons['order']=3\n",
    "\n",
    "    rna_central_exons['transcript_id'] = rna_central_exons['gene_id']+'.transcript'\n",
    "    rna_central_exons['exon_coords'] = rna_central_exons[3].astype('str')+'_'+rna_central_exons[4].astype('str')+','\n",
    "    rna_central_gr_transcripts = rna_central_exons.groupby([0,6,'transcript_id']).agg({'exon_coords':sum}).reset_index()\n",
    "    rna_central_gr_transcripts['transcript_alt_id'] = rna_central_gr_transcripts[0].astype('str')+'_'+rna_central_gr_transcripts[6]+'_'+rna_central_gr_transcripts['exon_coords']\n",
    "\n",
    "    gtf_df_exons = gtf_df.loc[gtf_df[2]=='exon'].reset_index(drop=True)\n",
    "    gtf_df_exons['transcript_id'] = gtf_df_exons[8].str.split('transcript_id \"',expand=True)[1].str.split('\"',expand=True)[0]\n",
    "    gtf_df_exons['exon_coords'] = gtf_df_exons[3].astype('str')+'_'+gtf_df_exons[4].astype('str')+','\n",
    "    gtf_df_gr_transcripts = gtf_df_exons.groupby([0,6,'transcript_id']).agg({'exon_coords':sum}).reset_index()\n",
    "    gtf_df_gr_transcripts['transcript_alt_id'] = gtf_df_gr_transcripts[0].astype('str')+'_'+gtf_df_gr_transcripts[6]+'_'+gtf_df_gr_transcripts['exon_coords']\n",
    "    ensembl_transcripts = list(gtf_df_gr_transcripts['transcript_alt_id'].unique())\n",
    "\n",
    "    preserve_transcripts_list = list(rna_central_gr_transcripts.loc[~rna_central_gr_transcripts['transcript_alt_id'].isin(ensembl_transcripts)]['transcript_id'].unique()) # when a transcript is present in ensemble and RNA central, prioritize ensemble\n",
    "    rna_central_exons = rna_central_exons.loc[rna_central_exons['transcript_id'].isin(preserve_transcripts_list)].reset_index(drop=True)\n",
    "    rna_central['transcript_id'] = rna_central['gene_id']+'.transcript'\n",
    "    rna_central = rna_central.loc[rna_central['transcript_id'].isin(preserve_transcripts_list)].reset_index(drop=True)\n",
    "\n",
    "    rna_central_exons = rna_central_exons[list(range(0,9))+['gene_id','order']]\n",
    "\n",
    "    rna_central_transcripts = rna_central.loc[rna_central[2]=='transcript'].copy().reset_index(drop=True)\n",
    "    rna_central_transcripts[8] = 'gene_id \"'+rna_central_transcripts['gene_id']+'\"; transcript_id \"'+rna_central_transcripts['gene_id']+'.transcript'+'\"; gene_source \"'+rna_central_transcripts['gene_source']+'\"; gene_type \"'+rna_central_transcripts['gene_biotype']+'\"; transcript_source \"'+rna_central_transcripts['gene_source']+'\"; transcript_type \"'+rna_central_transcripts['gene_biotype']+'\"; tag \"'+rna_central_transcripts['gene_source']+'\";'\n",
    "    rna_central_transcripts['order']=2\n",
    "    rna_central_transcripts = rna_central_transcripts[list(range(0,9))+['gene_id','order']]\n",
    "\n",
    "    rna_central_genes = rna_central.loc[rna_central[2]=='transcript'].copy().reset_index(drop=True)\n",
    "    rna_central_genes[2] = 'gene'\n",
    "    rna_central_genes[8] = 'gene_id \"'+rna_central_genes['gene_id']+'\"; gene_source \"'+rna_central_genes['gene_source']+'\"; gene_type \"'+rna_central_genes['gene_biotype']+'\";'\n",
    "    rna_central_genes['order']=1\n",
    "    rna_central_genes = rna_central_genes[list(range(0,9))+['gene_id','order']]\n",
    "\n",
    "    rna_central_gtf = pd.concat([rna_central_genes,rna_central_transcripts,rna_central_exons]).sort_values(['gene_id','order']).reset_index(drop=True).drop(['gene_id','order'],1)\n",
    "    rna_central_gtf[0] = 'chr'+rna_central_gtf[0].astype('str') # so that the naming is consistent\n",
    "    # save standard annotation enriched with RNA central\n",
    "    enriched_gtf = pd.concat([gtf_df,rna_central_gtf]).reset_index(drop=True)\n",
    "    genome_fai = pd.read_csv(file_paths[organism+'_genome_file']+'.fai',delimiter=\"\\t\",index_col=None,header=None)\n",
    "    enriched_gtf = pd.merge(genome_fai[[0]],enriched_gtf,how='inner',on=0)\n",
    "\n",
    "    # remove non-canonical chromosomes, they are not of interest\n",
    "    enriched_gtf = enriched_gtf.loc[enriched_gtf[0].str.startswith('chr')].reset_index(drop=True)\n",
    "    \n",
    "    # check that inferred introns are consistent (start<end), otherwise remove such transcripts\n",
    "    exons = enriched_gtf.loc[enriched_gtf[2]=='exon'].reset_index(drop=True)\n",
    "    exons['transcript_id'] = exons[8].str.split('transcript_id \"',expand=True)[1].str.split('\";',expand=True)[0]\n",
    "    exons = exons[[0,3,4,'transcript_id',6]]\n",
    "    exons = exons.sort_values([0,6,'transcript_id',3,4],ascending=True).reset_index(drop=True)\n",
    "    exons = exons.values\n",
    "    introns = []\n",
    "    intron_start, intron_end, prev_transcript = None, None, ''\n",
    "    \n",
    "    for exon in exons:\n",
    "        if (intron_start is None) or (prev_transcript!=exon[3]):\n",
    "            intron_start = exon[2]\n",
    "            prev_transcript = exon[3]\n",
    "        else:\n",
    "            intron_end = exon[1]\n",
    "            introns.append([exon[0],intron_start,intron_end,exon[3],0,exon[4]])\n",
    "            intron_start = exon[2]\n",
    "            prev_transcript = exon[3]\n",
    "    introns = pd.DataFrame(introns)\n",
    "    introns[2] = introns[2]-1\n",
    "    introns = introns.sort_values([0,1,2],ascending=True).reset_index(drop=True)\n",
    "    \n",
    "    bad_transcripts = list(introns.loc[introns[1]>introns[2]][3].unique())\n",
    "    \n",
    "    transcripts = enriched_gtf.loc[enriched_gtf[2]=='transcript'].reset_index(drop=True)\n",
    "    transcripts['transcript_id'] = transcripts[8].str.split('transcript_id \"',expand=True)[1].str.split('\";',expand=True)[0]\n",
    "    transcripts['gene_id'] = transcripts[8].str.split('gene_id \"',expand=True)[1].str.split('\";',expand=True)[0]\n",
    "    transcripts['bad'] = (transcripts['transcript_id'].isin(bad_transcripts)).astype('int')\n",
    "    transcripts['t']=1\n",
    "    gr = transcripts.groupby(['gene_id']).agg({'t':sum,'bad':sum}).reset_index()\n",
    "    \n",
    "    bad_genes = list(gr.loc[(gr['t']==gr['bad'])&(gr['bad']>0)]['gene_id'].unique())\n",
    "    \n",
    "    if len(bad_genes)>0:\n",
    "        enriched_gtf = enriched_gtf.loc[~enriched_gtf[8].str.contains('|'.join(bad_genes))].reset_index(drop=True)\n",
    "    if len(bad_transcripts):\n",
    "        enriched_gtf = enriched_gtf.loc[~enriched_gtf[8].str.contains('|'.join(bad_transcripts))].reset_index(drop=True)\n",
    "    \n",
    "    enriched_gtf.to_csv(file_paths[organism+'_enriched_annotation_file'], sep=str('\\t'),header=False,index=None,quoting=csv.QUOTE_NONE)"
   ]
  },
  {
   "cell_type": "markdown",
   "id": "f0fb3013-1902-44b7-8170-4e2df01cb46d",
   "metadata": {},
   "source": [
    "# Download control data<a name=\"control_data_download\"></a>"
   ]
  },
  {
   "cell_type": "code",
   "execution_count": 18,
   "id": "07542d00-4d56-42e7-9116-e843b3fcbee7",
   "metadata": {},
   "outputs": [],
   "source": [
    "samples_to_download_1 = pd.read_csv(subdirs['metadata_dir']+'SRA_CONTROL_DATA_1.tsv',delimiter=\"\\t\",\n",
    "                                   index_col=None,header=0)\n",
    "samples_to_download_2 = pd.read_csv(subdirs['metadata_dir']+'SRA_CONTROL_DATA_2.tsv',delimiter=\"\\t\",\n",
    "                                   index_col=None,header=0)\n",
    "samples_to_download_3 = pd.read_csv(subdirs['metadata_dir']+'SRA_CONTROL_DATA_3.tsv',delimiter=\"\\t\",\n",
    "                                   index_col=None,header=0)\n",
    "samples_to_download = pd.concat([samples_to_download_1,samples_to_download_2,samples_to_download_3]).reset_index(drop=True)"
   ]
  },
  {
   "cell_type": "code",
   "execution_count": 21,
   "id": "f609ea14-4e2f-4d7f-a716-799b42be6d61",
   "metadata": {},
   "outputs": [],
   "source": [
    "samples_to_download['expected_path'] = subdirs['fastq_dir']+samples_to_download['sample']+'/'+samples_to_download['sample']"
   ]
  },
  {
   "cell_type": "code",
   "execution_count": 27,
   "id": "5db8c296-cf6d-4996-99a9-7180af16aa14",
   "metadata": {},
   "outputs": [
    {
     "data": {
      "text/plain": [
       "'prefetch -v -O /scicore/home/zavolan/GROUP/StefanieCLIP/aleksei/input_fastq/SRR18735700 SRR18735700 && fasterq-dump -f -v -e 4 -O /scicore/home/zavolan/GROUP/StefanieCLIP/aleksei/input_fastq/SRR18735700 /scicore/home/zavolan/GROUP/StefanieCLIP/aleksei/input_fastq/SRR18735700/SRR18735700 && prefetch -v -O /scicore/home/zavolan/GROUP/StefanieCLIP/aleksei/input_fastq/SRR18735702 SRR18735702 && fasterq-dump -f -v -e 4 -O /scicore/home/zavolan/GROUP/StefanieCLIP/aleksei/input_fastq/SRR18735702 /scicore/home/zavolan/GROUP/StefanieCLIP/aleksei/input_fastq/SRR18735702/SRR18735702 && prefetch -v -O /scicore/home/zavolan/GROUP/StefanieCLIP/aleksei/input_fastq/SRR18735704 SRR18735704 && fasterq-dump -f -v -e 4 -O /scicore/home/zavolan/GROUP/StefanieCLIP/aleksei/input_fastq/SRR18735704 /scicore/home/zavolan/GROUP/StefanieCLIP/aleksei/input_fastq/SRR18735704/SRR18735704 && prefetch -v -O /scicore/home/zavolan/GROUP/StefanieCLIP/aleksei/input_fastq/SRR18735706 SRR18735706 && fasterq-dump -f -v -e 4 -O /scicore/home/zavolan/GROUP/StefanieCLIP/aleksei/input_fastq/SRR18735706 /scicore/home/zavolan/GROUP/StefanieCLIP/aleksei/input_fastq/SRR18735706/SRR18735706 && prefetch -v -O /scicore/home/zavolan/GROUP/StefanieCLIP/aleksei/input_fastq/SRR18735707 SRR18735707 && fasterq-dump -f -v -e 4 -O /scicore/home/zavolan/GROUP/StefanieCLIP/aleksei/input_fastq/SRR18735707 /scicore/home/zavolan/GROUP/StefanieCLIP/aleksei/input_fastq/SRR18735707/SRR18735707 && prefetch -v -O /scicore/home/zavolan/GROUP/StefanieCLIP/aleksei/input_fastq/SRR18735698 SRR18735698 && fasterq-dump -f -v -e 4 -O /scicore/home/zavolan/GROUP/StefanieCLIP/aleksei/input_fastq/SRR18735698 /scicore/home/zavolan/GROUP/StefanieCLIP/aleksei/input_fastq/SRR18735698/SRR18735698'"
      ]
     },
     "execution_count": 27,
     "metadata": {},
     "output_type": "execute_result"
    }
   ],
   "source": [
    "big_command = ''\n",
    "i=0\n",
    "for index,row in samples_to_download.iterrows():\n",
    "    SRA_id = row['sample']\n",
    "    if not (os.path.isfile(row['expected_path']+'.fastq.gz') or os.path.isfile(row['expected_path']+'_1.fastq.gz')):\n",
    "        command = 'prefetch -v -O '+subdirs['fastq_dir']+SRA_id+' '+SRA_id+\\\n",
    "        ' && fasterq-dump -f -v -e '+str(4)+' -O '+subdirs['fastq_dir']+SRA_id+' '+subdirs['fastq_dir']+SRA_id+'/'+SRA_id\n",
    "        if i>0:\n",
    "            big_command = big_command+' && '+command\n",
    "        else:\n",
    "            big_command = command\n",
    "        i=i+1\n",
    "big_command"
   ]
  },
  {
   "cell_type": "code",
   "execution_count": 35,
   "id": "646793f7-46fd-451e-a961-7d586e0193b2",
   "metadata": {},
   "outputs": [
    {
     "data": {
      "text/plain": [
       "'pigz -f --fast -p 12 /scicore/home/zavolan/GROUP/StefanieCLIP/aleksei/input_fastq/SRR18735702/SRR18735702_2.fastq && pigz -f --fast -p 12 /scicore/home/zavolan/GROUP/StefanieCLIP/aleksei/input_fastq/SRR18735702/SRR18735702_1.fastq && pigz -f --fast -p 12 /scicore/home/zavolan/GROUP/StefanieCLIP/aleksei/input_fastq/SRR18735704/SRR18735704_2.fastq && pigz -f --fast -p 12 /scicore/home/zavolan/GROUP/StefanieCLIP/aleksei/input_fastq/SRR18735704/SRR18735704_1.fastq && pigz -f --fast -p 12 /scicore/home/zavolan/GROUP/StefanieCLIP/aleksei/input_fastq/SRR18735698/SRR18735698_2.fastq && pigz -f --fast -p 12 /scicore/home/zavolan/GROUP/StefanieCLIP/aleksei/input_fastq/SRR18735698/SRR18735698_1.fastq && pigz -f --fast -p 12 /scicore/home/zavolan/GROUP/StefanieCLIP/aleksei/input_fastq/SRR18735706/SRR18735706_1.fastq && pigz -f --fast -p 12 /scicore/home/zavolan/GROUP/StefanieCLIP/aleksei/input_fastq/SRR18735706/SRR18735706_2.fastq && pigz -f --fast -p 12 /scicore/home/zavolan/GROUP/StefanieCLIP/aleksei/input_fastq/SRR18735700/SRR18735700_1.fastq && pigz -f --fast -p 12 /scicore/home/zavolan/GROUP/StefanieCLIP/aleksei/input_fastq/SRR18735700/SRR18735700_2.fastq && pigz -f --fast -p 12 /scicore/home/zavolan/GROUP/StefanieCLIP/aleksei/input_fastq/SRR18735707/SRR18735707_2.fastq && pigz -f --fast -p 12 /scicore/home/zavolan/GROUP/StefanieCLIP/aleksei/input_fastq/SRR18735707/SRR18735707_1.fastq'"
      ]
     },
     "execution_count": 35,
     "metadata": {},
     "output_type": "execute_result"
    }
   ],
   "source": [
    "# gzip fastq files\n",
    "os.system(\"\"\"find \"\"\"+subdirs['fastq_dir']+\"\"\" -name '*.fastq' > \"\"\"+subdirs['temp_dir']+\"\"\"fastq_file_paths.tsv\"\"\")\n",
    "fastq_file_paths = pd.read_csv(subdirs['temp_dir']+\"\"\"fastq_file_paths.tsv\"\"\",delimiter=\"\\t\",\n",
    "                                   index_col=None,header=None)\n",
    "big_command = ''\n",
    "i=0\n",
    "for file_path in fastq_file_paths[0]:\n",
    "    command = 'pigz -f --fast -p '+str(12)+' '+file_path\n",
    "    if i>0:\n",
    "        big_command = big_command+' && '+command\n",
    "    else:\n",
    "        big_command = command    \n",
    "    i=i+1\n",
    "big_command"
   ]
  },
  {
   "cell_type": "code",
   "execution_count": 36,
   "id": "74319397-a06b-4430-8cb6-4cb49e2972ab",
   "metadata": {},
   "outputs": [],
   "source": [
    "# delete unnecessary .sra files\n",
    "os.system(\"\"\"find \"\"\"+subdirs['fastq_dir']+\"\"\" -name '*.sra' > \"\"\"+subdirs['temp_dir']+\"\"\"sra_file_paths.tsv\"\"\")\n",
    "sra_file_paths = pd.read_csv(subdirs['temp_dir']+\"\"\"sra_file_paths.tsv\"\"\",delimiter=\"\\t\",\n",
    "                                   index_col=None,header=None)\n",
    "sra_file_paths.columns = ['path']\n",
    "command = 'rm '+' '.join(sra_file_paths['path'])\n",
    "# out = subprocess.check_output(command, shell=True)"
   ]
  },
  {
   "cell_type": "code",
   "execution_count": null,
   "id": "10673c14-fe8e-4309-9d1c-b6cf86fa72be",
   "metadata": {},
   "outputs": [],
   "source": [
    "# make downloaded fastq.gz files read-only"
   ]
  },
  {
   "cell_type": "code",
   "execution_count": null,
   "id": "eadcec38-3bad-46f3-b7dd-f74b3ed1afd9",
   "metadata": {},
   "outputs": [],
   "source": [
    "# chmod 554 -R ./input_fastq"
   ]
  },
  {
   "cell_type": "markdown",
   "id": "b65972e4-f29c-40cd-9153-383e2d7f80ff",
   "metadata": {},
   "source": [
    "# Make start_samples file"
   ]
  },
  {
   "cell_type": "markdown",
   "id": "459db29e-c2ee-4456-8b19-016ccb5cfb73",
   "metadata": {},
   "source": [
    "## for bCLIP and ChipSeq samples"
   ]
  },
  {
   "cell_type": "code",
   "execution_count": 39,
   "id": "f87fe9f4-5d6e-43f6-9f70-f7ef84ad7e4c",
   "metadata": {},
   "outputs": [],
   "source": [
    "# description file for bCLIP experimental samples\n",
    "experimental_samples = pd.read_csv(subdirs['metadata_dir']+'experimental_bCLIP_samples.tsv',delimiter=\"\\t\",\n",
    "                                   index_col=None,header=0)\n",
    "exp_file_paths = experimental_samples[['lane_file','barcode_file']].drop_duplicates().reset_index(drop=True)\n",
    "\n",
    "os.system(\"\"\"find \"\"\"+subdirs['main_project_dir']+'input/'+\"\"\" -name '*.fastq.gz' > \"\"\"+subdirs['temp_dir']+\"\"\"exper_fastq_file_paths.tsv\"\"\")\n",
    "fastq_file_paths = pd.read_csv(subdirs['temp_dir']+'exper_fastq_file_paths.tsv',delimiter=\"\\t\",\n",
    "                                   index_col=None,header=None)\n",
    "fastq_file_paths.columns = ['lane_file_path']\n",
    "fastq_file_paths['lane_file'] = fastq_file_paths['lane_file_path'].str.split('/',expand=True).iloc[:, -1]\n",
    "exp_file_paths = pd.merge(fastq_file_paths,exp_file_paths,how='inner',on=['lane_file'])\n",
    "\n",
    "os.system(\"\"\"find \"\"\"+subdirs['main_project_dir']+'input/'+\"\"\" -name '*.fasta' > \"\"\"+subdirs['temp_dir']+\"\"\"barcode_fasta_files.tsv\"\"\")\n",
    "barcode_fasta_files = pd.read_csv(subdirs['temp_dir']+'barcode_fasta_files.tsv',delimiter=\"\\t\",\n",
    "                                   index_col=None,header=None)\n",
    "barcode_fasta_files.columns = ['barcode_file_path']\n",
    "barcode_fasta_files['barcode_file'] = barcode_fasta_files['barcode_file_path'].str.split('/',expand=True).iloc[:, -1]\n",
    "exp_file_paths = pd.merge(barcode_fasta_files,exp_file_paths,how='inner',on=['barcode_file'])\n",
    "\n",
    "exp_file_paths['wfstart_lane_file_path'] = subdirs['fastq_dir']+exp_file_paths['lane_file'].str.replace('.fastq.gz','')+'/'+exp_file_paths['lane_file']\n",
    "exp_file_paths['wfstart_barcode_file_path'] = subdirs['fastq_dir']+exp_file_paths['lane_file'].str.replace('.fastq.gz','')+'/'+exp_file_paths['barcode_file']\n",
    "\n",
    "# for index, row in exp_file_paths.iterrows():\n",
    "#     sample_name = row['lane_file'].replace('.fastq.gz','')\n",
    "#     command = 'mkdir -p '+subdirs['fastq_dir']+sample_name+'/'\n",
    "#     out = subprocess.check_output(command, shell=True)\n",
    "#     command = 'rm -f '+row['wfstart_lane_file_path']+' && ln -f -s '+row['lane_file_path']+' '+row['wfstart_lane_file_path']\n",
    "#     out = subprocess.check_output(command, shell=True)\n",
    "#     command = 'rm -f '+row['wfstart_barcode_file_path']+' && ln -f -s '+row['barcode_file_path']+' '+row['wfstart_barcode_file_path']\n",
    "#     out = subprocess.check_output(command, shell=True)\n",
    "\n",
    "experimental_samples = pd.merge(experimental_samples,\n",
    "                                exp_file_paths[['lane_file','barcode_file','wfstart_lane_file_path','wfstart_barcode_file_path']],\n",
    "                                how='inner',on=['lane_file','barcode_file'])\n",
    "\n",
    "experimental_samples = experimental_samples.drop(['lane_file','barcode_file'],1).rename(columns={'wfstart_lane_file_path':'lane_file','wfstart_barcode_file_path':'barcode_file'})\n",
    "\n",
    "experimental_samples['genome_file'] = file_paths['mouse_genome_file']\n",
    "experimental_samples['gtf_file'] = file_paths['mouse_annotation_file']\n",
    "experimental_samples['lane_file_2'] = ''\n",
    "experimental_samples = experimental_samples[['name','lane_name','lane_file','lane_file_2','kmer','barcode_file','exp_ctl','batch','condition_name','genome_file','gtf_file']]\n",
    "\n",
    "experimental_samples['lane_name'] = 'f'+experimental_samples['barcode_file'].str.split('barcodes_',expand=True).iloc[:, -1].str.replace('.fasta','')\n",
    "experimental_samples['organism'] = 'mouse'\n",
    "experimental_samples['directionality'] = 's'\n",
    "experimental_samples['library_layout'] = 'SINGLE'\n",
    "\n",
    "# description file for public bCLIP samples\n",
    "public_samples = pd.read_csv(subdirs['metadata_dir']+'public_bCLIP_and_ChipSeq_samples.tsv',delimiter=\"\\t\",\n",
    "                                   index_col=None,header=0)\n",
    "public_samples['genome_file'] = public_samples.apply(lambda x:file_paths['mouse_genome_file'] if x['batch'].endswith('_mESC') else file_paths['human_genome_file'],1)\n",
    "public_samples['gtf_file'] = public_samples.apply(lambda x:file_paths['mouse_annotation_file'] if x['batch'].endswith('_mESC') else file_paths['human_annotation_file'],1)\n",
    "public_samples['lane_name'] = 'f'+public_samples['name']\n",
    "public_samples['organism'] = public_samples.apply(lambda x: 'mouse' if x['batch'].endswith('_mESC') else 'human',1)\n",
    "public_samples['directionality'] = 's' # forward orientation of the first read\n",
    "public_samples['library_layout'] = 'SINGLE'\n",
    "\n",
    "# merge with public data\n",
    "start_samples = pd.concat([public_samples,experimental_samples]).reset_index(drop=True)\n",
    "start_samples['kmer'] = start_samples['kmer'].fillna('XXXXXXX')\n",
    "\n",
    "# add list of chromosomes\n",
    "organisms = list(start_samples['organism'].unique())\n",
    "cl = []\n",
    "for organism in organisms:\n",
    "    enriched_gtf = pd.read_csv(file_paths[organism+'_enriched_annotation_file'],delimiter=\"\\t\",\n",
    "                                       index_col=None,header=None,usecols = [0])\n",
    "    chromosome_list =  list(enriched_gtf[0].unique())\n",
    "    cl.append([organism,' '.join(chromosome_list)])\n",
    "cl = pd.DataFrame(cl,columns=['organism','chromosomes'])\n",
    "start_samples = pd.merge(start_samples,cl,how='left',on='organism')\n",
    "\n",
    "start_samples.to_csv(subdirs['metadata_dir']+'start_bCLIP_and_ChipSeq_samples.tsv', sep=str('\\t'),header=True,index=None,quoting=csv.QUOTE_NONE)"
   ]
  },
  {
   "cell_type": "code",
   "execution_count": 41,
   "id": "e6c0cc88-b38c-4f36-ad05-a926ff9d4277",
   "metadata": {},
   "outputs": [
    {
     "data": {
      "text/plain": [
       "'/scicore/home/zavolan/GROUP/StefanieCLIP/aleksei/metadata/start_bCLIP_samples.tsv'"
      ]
     },
     "execution_count": 41,
     "metadata": {},
     "output_type": "execute_result"
    }
   ],
   "source": [
    "subdirs['metadata_dir']+'start_bCLIP_samples.tsv'"
   ]
  },
  {
   "cell_type": "code",
   "execution_count": 47,
   "id": "9c64876a-71f7-4414-a7e0-19c1888ea0e9",
   "metadata": {},
   "outputs": [
    {
     "data": {
      "text/plain": [
       "'/scicore/home/zavolan/GROUP/StefanieCLIP/aleksei/output/'"
      ]
     },
     "execution_count": 47,
     "metadata": {},
     "output_type": "execute_result"
    }
   ],
   "source": [
    "subdirs['wf_output_dir']"
   ]
  },
  {
   "cell_type": "code",
   "execution_count": 48,
   "id": "6e439693-d92d-4e31-9d78-25d75f802d85",
   "metadata": {},
   "outputs": [
    {
     "data": {
      "text/plain": [
       "'/scicore/home/zavolan/GROUP/StefanieCLIP/aleksei/temp_dir/slurm/'"
      ]
     },
     "execution_count": 48,
     "metadata": {},
     "output_type": "execute_result"
    }
   ],
   "source": [
    "subdirs['slurm_dir']"
   ]
  },
  {
   "cell_type": "markdown",
   "id": "dbfe1e73-7689-4317-bc60-a9a9f933c9ed",
   "metadata": {},
   "source": [
    "## for PRO-seq"
   ]
  },
  {
   "cell_type": "code",
   "execution_count": 40,
   "id": "214ff7cb-577a-4b5c-833e-5e6a92f816e3",
   "metadata": {},
   "outputs": [],
   "source": [
    "# description file for public PRO-seq samples\n",
    "public_samples = pd.read_csv(subdirs['metadata_dir']+'public_PROseq_samples.tsv',delimiter=\"\\t\",\n",
    "                                   index_col=None,header=0)\n",
    "\n",
    "public_samples['genome_file'] = public_samples.apply(lambda x:file_paths['mouse_genome_file'] if x['batch'].endswith('_mESC') else file_paths['human_genome_file'],1)\n",
    "public_samples['gtf_file'] = public_samples.apply(lambda x:file_paths['mouse_annotation_file'] if x['batch'].endswith('_mESC') else file_paths['human_annotation_file'],1)\n",
    "public_samples['lane_name'] = 'f'+public_samples['name']\n",
    "public_samples['organism'] = public_samples.apply(lambda x: 'mouse' if x['batch'].endswith('_mESC') else 'human',1)\n",
    "public_samples['directionality'] = 'S' # reverse orientation of the first read\n",
    "public_samples['library_layout'] = 'SINGLE'\n",
    "\n",
    "start_samples = public_samples.copy()\n",
    "start_samples['kmer'] = start_samples['kmer'].fillna('XXXXXXX')\n",
    "\n",
    "# add list of chromosomes\n",
    "organisms = list(start_samples['organism'].unique())\n",
    "cl = []\n",
    "for organism in organisms:\n",
    "    enriched_gtf = pd.read_csv(file_paths[organism+'_enriched_annotation_file'],delimiter=\"\\t\",\n",
    "                                       index_col=None,header=None,usecols = [0])\n",
    "    chromosome_list =  list(enriched_gtf[0].unique())\n",
    "    cl.append([organism,' '.join(chromosome_list)])\n",
    "cl = pd.DataFrame(cl,columns=['organism','chromosomes'])\n",
    "start_samples = pd.merge(start_samples,cl,how='left',on='organism')\n",
    "start_samples.to_csv(subdirs['metadata_dir']+'start_PROseq_samples.tsv', sep=str('\\t'),header=True,index=None,quoting=csv.QUOTE_NONE)"
   ]
  },
  {
   "cell_type": "markdown",
   "id": "aecf0d2c-e2dc-48b7-b7f9-b8b59acd8797",
   "metadata": {},
   "source": [
    "## for RNA-seq"
   ]
  },
  {
   "cell_type": "code",
   "execution_count": 31,
   "id": "e4d814da-36cb-49fb-9e51-152b10511940",
   "metadata": {},
   "outputs": [
    {
     "data": {
      "text/plain": [
       "0"
      ]
     },
     "execution_count": 31,
     "metadata": {},
     "output_type": "execute_result"
    }
   ],
   "source": [
    "os.system(\"\"\"find \"\"\"+subdirs['main_project_dir']+'input/X204SC24014174-Z01-F001/01.RawData/'+\"\"\" -name '*.fq.gz' > \"\"\"+subdirs['temp_dir']+\"\"\"exper_RNAseq_fastq_file_paths.tsv\"\"\")"
   ]
  },
  {
   "cell_type": "code",
   "execution_count": 39,
   "id": "9e803876-30d0-4f15-8241-83b8ea6c1889",
   "metadata": {},
   "outputs": [],
   "source": [
    "exper_RNAseq_fastq_file_paths = pd.read_csv(subdirs['temp_dir']+\"\"\"exper_RNAseq_fastq_file_paths.tsv\"\"\",delimiter=\"\\t\",index_col=None,header=None)\n",
    "exper_RNAseq_fastq_file_paths.columns = ['path']\n",
    "exper_RNAseq_fastq_file_paths['name'] = exper_RNAseq_fastq_file_paths.apply(lambda x:x['path'].split('/')[-1][:-8],1)\n",
    "exper_RNAseq_fastq_file_paths['lane_file'] = exper_RNAseq_fastq_file_paths.apply(lambda x:'/'.join(x['path'].split('/')[:-1])+'/'+x['name']+'_1.fq.gz',1)\n",
    "exper_RNAseq_fastq_file_paths['lane_file_2'] = exper_RNAseq_fastq_file_paths.apply(lambda x:'/'.join(x['path'].split('/')[:-1])+'/'+x['name']+'_2.fq.gz',1)\n",
    "experimental_samples = exper_RNAseq_fastq_file_paths.drop_duplicates('name').reset_index(drop=True)\n",
    "experimental_samples['replicate'] = experimental_samples.apply(lambda x:x['name'].split('_')[0],1)\n",
    "\n",
    "mouse_replicates = ['A12','A13','A14','A15','A18','A19']\n",
    "human_replicates = list('A'+pd.Series(range(1,10)).astype('str'))\n",
    "\n",
    "experimental_samples = experimental_samples.loc[experimental_samples['replicate'].isin(mouse_replicates+human_replicates)].reset_index(drop=True).drop('path',1)\n",
    "\n",
    "experimental_samples_mouse = experimental_samples.loc[experimental_samples['replicate'].isin(mouse_replicates)].reset_index(drop=True)\n",
    "experimental_samples_human = experimental_samples.loc[experimental_samples['replicate'].isin(human_replicates)].reset_index(drop=True)\n",
    "experimental_samples_mouse['genome_file'] = file_paths['mouse_genome_file']\n",
    "experimental_samples_human['genome_file'] = file_paths['human_genome_file']\n",
    "experimental_samples_mouse['gtf_file'] = file_paths['mouse_annotation_file']\n",
    "experimental_samples_human['gtf_file'] = file_paths['human_annotation_file']\n",
    "experimental_samples_human['organism'] = 'human'\n",
    "experimental_samples_mouse['organism'] = 'mouse'\n",
    "\n",
    "# experimental_samples = pd.concat([experimental_samples_human,experimental_samples_mouse]).reset_index(drop=True)\n",
    "experimental_samples = experimental_samples_human.copy()\n",
    "\n",
    "experimental_samples = experimental_samples.drop('replicate',1)\n",
    "experimental_samples['condition_name'] = 'NA' # define afterwards in analysis\n",
    "experimental_samples['batch'] = 'new24_03'\n",
    "experimental_samples['exp_ctl'] = 'NA'\n",
    "\n",
    "# public_samples = pd.read_csv(subdirs['metadata_dir']+'public_RNAseq_samples.tsv',delimiter=\"\\t\",\n",
    "#                                    index_col=None,header=0)\n",
    "# public_samples['genome_file'] = file_paths['mouse_genome_file']\n",
    "# public_samples['gtf_file'] = file_paths['mouse_annotation_file']\n",
    "# public_samples['organism'] = 'mouse'\n",
    "\n",
    "# start_samples = pd.concat([public_samples[list(experimental_samples.columns)],experimental_samples]).reset_index(drop=True)\n",
    "start_samples = experimental_samples.copy()\n",
    "start_samples['kmer'] = 'XXXXXXX'\n",
    "\n",
    "\n",
    "# add list of chromosomes\n",
    "organisms = list(start_samples['organism'].unique())\n",
    "cl = []\n",
    "for organism in organisms:\n",
    "    enriched_gtf = pd.read_csv(file_paths[organism+'_enriched_annotation_file'],delimiter=\"\\t\",\n",
    "                                       index_col=None,header=None,usecols = [0])\n",
    "    chromosome_list =  list(enriched_gtf[0].unique())\n",
    "    cl.append([organism,' '.join(chromosome_list)])\n",
    "cl = pd.DataFrame(cl,columns=['organism','chromosomes'])\n",
    "start_samples = pd.merge(start_samples,cl,how='left',on='organism')\n",
    "\n",
    "start_samples.to_csv(subdirs['metadata_dir']+'start_RNAseq_samples.tsv', sep=str('\\t'),header=True,index=None,quoting=csv.QUOTE_NONE)"
   ]
  },
  {
   "cell_type": "code",
   "execution_count": 38,
   "id": "d4bb5a1d-ccc7-4da6-984f-5f64c6ed78fb",
   "metadata": {},
   "outputs": [
    {
     "data": {
      "text/plain": [
       "35"
      ]
     },
     "execution_count": 38,
     "metadata": {},
     "output_type": "execute_result"
    }
   ],
   "source": [
    "len(start_samples)"
   ]
  },
  {
   "cell_type": "markdown",
   "id": "0503e062-3f22-47f5-826b-adc0f0f062fe",
   "metadata": {},
   "source": [
    "# Run main WF"
   ]
  },
  {
   "cell_type": "markdown",
   "id": "f81d1dd9-728d-419b-8252-95e2f28565c3",
   "metadata": {},
   "source": [
    "## bCLIP and ChipSeq analysis"
   ]
  },
  {
   "cell_type": "code",
   "execution_count": 17,
   "id": "6baeae43-e94c-4dee-a5c2-57c645d19787",
   "metadata": {},
   "outputs": [
    {
     "data": {
      "text/plain": [
       "'snakemake --snakefile /scicore/home/zavolan/mirono0000/Projects/bCLIP/bclip_workflow/Snakefile_bCLIP --configfile /scicore/home/zavolan/mirono0000/Projects/bCLIP/bclip_workflow/config_bCLIP.yaml --scheduler greedy --printshellcmds --use-conda --conda-frontend conda --use-singularity --singularity-args \"--bind /scicore/home/zavolan/mirono0000/Projects/bCLIP/,/scicore/home/zavolan/GROUP/StefanieCLIP/,/scicore/home/zavolan/GROUP/Genomes/\" --cluster-config /scicore/home/zavolan/mirono0000/Projects/bCLIP/bclip_workflow/cluster_bCLIP.json --cores 500 --local-cores 10 --jobs 100 --latency-wait 60 --cluster \"sbatch --cpus-per-task={cluster.threads} --mem={cluster.mem} --qos={cluster.queue} --partition={cluster.partition} --time={cluster.time} --output={cluster.out}\" --nolock -np'"
      ]
     },
     "execution_count": 17,
     "metadata": {},
     "output_type": "execute_result"
    }
   ],
   "source": [
    "command = \"\"\"snakemake \\\n",
    "--snakefile \"\"\"+subdirs['wf_dir']+\"\"\"Snakefile_bCLIP \\\n",
    "--configfile \"\"\"+subdirs['wf_dir']+\"\"\"config_bCLIP.yaml \\\n",
    "--scheduler greedy \\\n",
    "--printshellcmds \\\n",
    "--use-conda --conda-frontend conda \\\n",
    "--use-singularity \\\n",
    "--singularity-args \"--bind /scicore/home/zavolan/mirono0000/Projects/bCLIP/,/scicore/home/zavolan/GROUP/StefanieCLIP/,/scicore/home/zavolan/GROUP/Genomes/\" \\\n",
    "--cluster-config \"\"\"+subdirs['wf_dir']+\"\"\"cluster_bCLIP.json \\\n",
    "--cores 500 \\\n",
    "--local-cores 10 \\\n",
    "--jobs 100 \\\n",
    "--latency-wait 60 \\\n",
    "--cluster \"sbatch \\\n",
    "--cpus-per-task={cluster.threads} \\\n",
    "--mem={cluster.mem} \\\n",
    "--qos={cluster.queue} \\\n",
    "--partition={cluster.partition} \\\n",
    "--time={cluster.time} \\\n",
    "--output={cluster.out}\" \\\n",
    "--nolock \\\n",
    "-np\"\"\"\n",
    "command"
   ]
  },
  {
   "cell_type": "markdown",
   "id": "7d3ec954-e010-4153-9411-5d3e3d0a5c32",
   "metadata": {},
   "source": [
    "## PRO-seq"
   ]
  },
  {
   "cell_type": "code",
   "execution_count": 14,
   "id": "63107a1a-b124-4c6b-9415-b5499eaa42cb",
   "metadata": {},
   "outputs": [
    {
     "data": {
      "text/plain": [
       "'snakemake --snakefile /scicore/home/zavolan/mirono0000/Projects/bCLIP/bclip_workflow/Snakefile_PROseq --configfile /scicore/home/zavolan/mirono0000/Projects/bCLIP/bclip_workflow/config_PROseq.yaml --printshellcmds --use-conda --conda-frontend conda --use-singularity --singularity-args \"--bind /scicore/home/zavolan/mirono0000/Projects/bCLIP/,/scicore/home/zavolan/GROUP/StefanieCLIP/,/scicore/home/zavolan/GROUP/Genomes/\" --cluster-config /scicore/home/zavolan/mirono0000/Projects/bCLIP/bclip_workflow/cluster_PROseq.json --cores 500 --local-cores 10 --jobs 100 --latency-wait 60 --cluster \"sbatch --cpus-per-task={cluster.threads} --mem={cluster.mem} --qos={cluster.queue} --partition={cluster.partition} --time={cluster.time} --output={cluster.out}\" --nolock -np'"
      ]
     },
     "execution_count": 14,
     "metadata": {},
     "output_type": "execute_result"
    }
   ],
   "source": [
    "command = \"\"\"snakemake \\\n",
    "--snakefile \"\"\"+subdirs['wf_dir']+\"\"\"Snakefile_PROseq \\\n",
    "--configfile \"\"\"+subdirs['wf_dir']+\"\"\"config_PROseq.yaml \\\n",
    "--printshellcmds \\\n",
    "--use-conda --conda-frontend conda \\\n",
    "--use-singularity \\\n",
    "--singularity-args \"--bind /scicore/home/zavolan/mirono0000/Projects/bCLIP/,/scicore/home/zavolan/GROUP/StefanieCLIP/,/scicore/home/zavolan/GROUP/Genomes/\" \\\n",
    "--cluster-config \"\"\"+subdirs['wf_dir']+\"\"\"cluster_PROseq.json \\\n",
    "--cores 500 \\\n",
    "--local-cores 10 \\\n",
    "--jobs 100 \\\n",
    "--latency-wait 60 \\\n",
    "--cluster \"sbatch \\\n",
    "--cpus-per-task={cluster.threads} \\\n",
    "--mem={cluster.mem} \\\n",
    "--qos={cluster.queue} \\\n",
    "--partition={cluster.partition} \\\n",
    "--time={cluster.time} \\\n",
    "--output={cluster.out}\" \\\n",
    "--nolock \\\n",
    "-np\"\"\"\n",
    "command"
   ]
  },
  {
   "cell_type": "markdown",
   "id": "ad5be7bc-05d5-43fa-9607-7e5ad7d4d380",
   "metadata": {},
   "source": [
    "## RNA-seq"
   ]
  },
  {
   "cell_type": "code",
   "execution_count": 30,
   "id": "62151b65-297e-435b-8d6f-177c0fdceb8e",
   "metadata": {},
   "outputs": [
    {
     "data": {
      "text/plain": [
       "'snakemake --snakefile /scicore/home/zavolan/mirono0000/Projects/bCLIP/bclip_workflow/Snakefile_RNAseq --configfile /scicore/home/zavolan/mirono0000/Projects/bCLIP/bclip_workflow/config_RNAseq.yaml --printshellcmds --use-conda --conda-frontend conda --use-singularity --singularity-args \"--bind /scicore/home/zavolan/mirono0000/Projects/bCLIP/,/scicore/home/zavolan/GROUP/StefanieCLIP/,/scicore/home/zavolan/GROUP/Genomes/\" --cluster-config /scicore/home/zavolan/mirono0000/Projects/bCLIP/bclip_workflow/cluster_RNAseq.json --cores 500 --local-cores 10 --jobs 100 --latency-wait 60 --cluster \"sbatch --cpus-per-task={cluster.threads} --mem={cluster.mem} --qos={cluster.queue} --partition={cluster.partition} --time={cluster.time} --output={cluster.out}\" --nolock -np'"
      ]
     },
     "execution_count": 30,
     "metadata": {},
     "output_type": "execute_result"
    }
   ],
   "source": [
    "command = \"\"\"snakemake \\\n",
    "--snakefile \"\"\"+subdirs['wf_dir']+\"\"\"Snakefile_RNAseq \\\n",
    "--configfile \"\"\"+subdirs['wf_dir']+\"\"\"config_RNAseq.yaml \\\n",
    "--printshellcmds \\\n",
    "--use-conda --conda-frontend conda \\\n",
    "--use-singularity \\\n",
    "--singularity-args \"--bind /scicore/home/zavolan/mirono0000/Projects/bCLIP/,/scicore/home/zavolan/GROUP/StefanieCLIP/,/scicore/home/zavolan/GROUP/Genomes/\" \\\n",
    "--cluster-config \"\"\"+subdirs['wf_dir']+\"\"\"cluster_RNAseq.json \\\n",
    "--cores 500 \\\n",
    "--local-cores 10 \\\n",
    "--jobs 100 \\\n",
    "--latency-wait 60 \\\n",
    "--cluster \"sbatch \\\n",
    "--cpus-per-task={cluster.threads} \\\n",
    "--mem={cluster.mem} \\\n",
    "--qos={cluster.queue} \\\n",
    "--partition={cluster.partition} \\\n",
    "--time={cluster.time} \\\n",
    "--output={cluster.out}\" \\\n",
    "--nolock \\\n",
    "-np\"\"\"\n",
    "command"
   ]
  },
  {
   "cell_type": "code",
   "execution_count": null,
   "id": "9b47ff61-ba92-42d3-9870-5a30ca03c3ed",
   "metadata": {},
   "outputs": [],
   "source": []
  },
  {
   "cell_type": "code",
   "execution_count": null,
   "id": "cdf25a2f-accb-4b69-9e44-c0649729db13",
   "metadata": {},
   "outputs": [],
   "source": []
  },
  {
   "cell_type": "markdown",
   "id": "5538fa7e-9f86-42b2-8ce4-e9bd8d173720",
   "metadata": {},
   "source": [
    "## Auxiliary"
   ]
  },
  {
   "cell_type": "code",
   "execution_count": null,
   "id": "3b3b6091-61f0-4ffa-9d51-138599574ab9",
   "metadata": {},
   "outputs": [],
   "source": [
    "# run if want to remove all bam files\n",
    "sample_file_name = subdirs['temp_dir']+'bam_file_paths.tsv'\n",
    "\n",
    "os.system(\"\"\"find \"\"\"+'/scicore/home/zavolan/GROUP/StefanieCLIP/aleksei/output/'+\"\"\" -name '*.Aligned.sortedByCoord.out.bam' > \"\"\"+sample_file_name)\n",
    "bam_file_paths = pd.read_csv(sample_file_name,delimiter=\"\\t\",\n",
    "                                   index_col=None,header=None)\n",
    "bam_file_paths['dir'] = bam_file_paths.apply(lambda x:os.path.dirname(x[0]), 1)\n",
    "command = 'rm -r '+' '.join(bam_file_paths['dir'])\n",
    "# out = subprocess.check_output(command, shell=True)"
   ]
  },
  {
   "cell_type": "code",
   "execution_count": null,
   "id": "849d1a70-9c54-4c1b-9afb-e26e320113d8",
   "metadata": {},
   "outputs": [],
   "source": []
  },
  {
   "cell_type": "code",
   "execution_count": null,
   "id": "06ec5126-0918-475b-abef-c32683ec2cdc",
   "metadata": {},
   "outputs": [],
   "source": []
  },
  {
   "cell_type": "code",
   "execution_count": null,
   "id": "bf4ceda2-a6c0-4999-a732-a09341f284fa",
   "metadata": {},
   "outputs": [],
   "source": []
  },
  {
   "cell_type": "code",
   "execution_count": 26,
   "id": "3f12c8fe-0e37-400d-895d-8ae42ea00b63",
   "metadata": {},
   "outputs": [],
   "source": [
    "input_file_path = '/scicore/home/zavolan/GROUP/StefanieCLIP/aleksei/output/samples/SRR18735676/segment_counts_all/binned_genome/SRR18735676.chr12.wd_counts.tsv'\n",
    "sample = 'SRR18735676'\n",
    "chr = 'chr12'\n",
    "count_col = 'uniquely_mapped;0'\n",
    "selected_TSSs_over_chrs_file = '/scicore/home/zavolan/GROUP/StefanieCLIP/aleksei/output/transcriptome/mouse/selected_TSSs_over_chrs_for_metaplots/'+chr+'.bed'\n",
    "s_param = '-s'\n",
    "\n",
    "metaplot_dir = '/scicore/home/zavolan/GROUP/StefanieCLIP/aleksei/output/samples/SRR18735676/segment_counts_all/metaplot/'\n",
    "bin_counts = pd.read_csv(input_file_path,delimiter=\"\\t\",index_col=None,header=0,dtype={\"chr\": \"category\",\"strand\":\"category\",\"segment_name\":\"category\"},nrows=5)"
   ]
  },
  {
   "cell_type": "code",
   "execution_count": 27,
   "id": "be4c0597-964f-4348-8dda-7a2a23e05688",
   "metadata": {},
   "outputs": [],
   "source": [
    "i=1\n",
    "col_number = -1\n",
    "for elem in bin_counts.columns:\n",
    "    if elem==count_col:\n",
    "        col_number = i\n",
    "    i=i+1\n",
    "if col_number==-1:\n",
    "    score_val = \"0\"\n",
    "else:\n",
    "    score_val = \"$\"+str(col_number)\n",
    "\n",
    "nonsorted_temp_file_path =metaplot_dir+sample+'.'+chr+'.nonsorted.bed'\n",
    "sorted_temp_file_path = metaplot_dir+sample+'.'+chr+'.sorted.bed'\n",
    "sel_file_path = metaplot_dir+sample+'.'+chr+'.selected.bed'\n",
    "\n",
    "command = \"\"\"awk \\'(NR>1) {print $1\"\\\\t\"$2\"\\\\t\"$3\"\\\\t\"\"t\"\"\\\\t\\\"\"\"\"+score_val+\"\"\"\\\"\\\\t\"$4}' \"\"\"+input_file_path+' > '+nonsorted_temp_file_path\n",
    "out = subprocess.check_output(command, shell=True)\n",
    "\n",
    "command = 'bedtools sort -i '+nonsorted_temp_file_path+' > '+sorted_temp_file_path\n",
    "out = subprocess.check_output(command, shell=True)   \n",
    "command = 'bedtools intersect -sorted -a '+sorted_temp_file_path+' -b '+selected_TSSs_over_chrs_file+' -wa -wb -s'+\"\"\" | awk \\'{print $1\"\\\\t\"$2\"\\\\t\"$3\"\\\\t\"$10\"\\\\t\"$5\"\\\\t\"$6}\\' > \"\"\"+sel_file_path\n",
    "out = subprocess.check_output(command, shell=True)\n",
    "\n",
    "command = 'rm '+sorted_temp_file_path+' '+nonsorted_temp_file_path\n",
    "out = subprocess.check_output(command, shell=True)"
   ]
  },
  {
   "cell_type": "code",
   "execution_count": 28,
   "id": "fce490c2-191a-4167-aef1-0cf36fcc8bc5",
   "metadata": {},
   "outputs": [],
   "source": [
    "bin_counts = pd.read_csv(sel_file_path,delimiter=\"\\t\",index_col=None,header=None)\n",
    "bin_counts.columns = ['chr','start','end','name','r','strand']\n",
    "bin_counts['TSS'] = bin_counts['name'].astype('str').str.split(';',expand=True)[1].astype('int')\n",
    "\n",
    "bin_counts['pos_rel_to_TSS'] = ((bin_counts['end']+bin_counts['start'])*0.5-bin_counts['TSS']).astype('int')*((bin_counts['strand']=='+').astype('int')*2-1)\n",
    "bin_counts['pos_rel_to_TSS'] = (np.round((bin_counts['pos_rel_to_TSS']/10),0)*10).astype('int')"
   ]
  },
  {
   "cell_type": "code",
   "execution_count": 32,
   "id": "02db38a2-520d-4969-8115-e277b4e53f9f",
   "metadata": {},
   "outputs": [
    {
     "data": {
      "text/html": [
       "<div>\n",
       "<style scoped>\n",
       "    .dataframe tbody tr th:only-of-type {\n",
       "        vertical-align: middle;\n",
       "    }\n",
       "\n",
       "    .dataframe tbody tr th {\n",
       "        vertical-align: top;\n",
       "    }\n",
       "\n",
       "    .dataframe thead th {\n",
       "        text-align: right;\n",
       "    }\n",
       "</style>\n",
       "<table border=\"1\" class=\"dataframe\">\n",
       "  <thead>\n",
       "    <tr style=\"text-align: right;\">\n",
       "      <th></th>\n",
       "      <th>chr</th>\n",
       "      <th>start</th>\n",
       "      <th>end</th>\n",
       "      <th>name</th>\n",
       "      <th>r</th>\n",
       "      <th>strand</th>\n",
       "      <th>TSS</th>\n",
       "      <th>pos_rel_to_TSS</th>\n",
       "    </tr>\n",
       "  </thead>\n",
       "  <tbody>\n",
       "    <tr>\n",
       "      <th>78005</th>\n",
       "      <td>chr12</td>\n",
       "      <td>85520651</td>\n",
       "      <td>85520661</td>\n",
       "      <td>control_up;85520664;37534;Fos</td>\n",
       "      <td>1.116</td>\n",
       "      <td>+</td>\n",
       "      <td>85520664</td>\n",
       "      <td>-10</td>\n",
       "    </tr>\n",
       "    <tr>\n",
       "      <th>78006</th>\n",
       "      <td>chr12</td>\n",
       "      <td>85520661</td>\n",
       "      <td>85520663</td>\n",
       "      <td>control_up;85520664;37534;Fos</td>\n",
       "      <td>5.465</td>\n",
       "      <td>+</td>\n",
       "      <td>85520664</td>\n",
       "      <td>0</td>\n",
       "    </tr>\n",
       "    <tr>\n",
       "      <th>78007</th>\n",
       "      <td>chr12</td>\n",
       "      <td>85520664</td>\n",
       "      <td>85520674</td>\n",
       "      <td>signal;85520664;37534;Fos</td>\n",
       "      <td>21.436</td>\n",
       "      <td>+</td>\n",
       "      <td>85520664</td>\n",
       "      <td>0</td>\n",
       "    </tr>\n",
       "    <tr>\n",
       "      <th>78008</th>\n",
       "      <td>chr12</td>\n",
       "      <td>85520674</td>\n",
       "      <td>85520684</td>\n",
       "      <td>signal;85520664;37534;Fos</td>\n",
       "      <td>35.726</td>\n",
       "      <td>+</td>\n",
       "      <td>85520664</td>\n",
       "      <td>20</td>\n",
       "    </tr>\n",
       "    <tr>\n",
       "      <th>78009</th>\n",
       "      <td>chr12</td>\n",
       "      <td>85520684</td>\n",
       "      <td>85520694</td>\n",
       "      <td>signal;85520664;37534;Fos</td>\n",
       "      <td>35.542</td>\n",
       "      <td>+</td>\n",
       "      <td>85520664</td>\n",
       "      <td>20</td>\n",
       "    </tr>\n",
       "    <tr>\n",
       "      <th>78010</th>\n",
       "      <td>chr12</td>\n",
       "      <td>85520694</td>\n",
       "      <td>85520704</td>\n",
       "      <td>signal;85520664;37534;Fos</td>\n",
       "      <td>27.344</td>\n",
       "      <td>+</td>\n",
       "      <td>85520664</td>\n",
       "      <td>40</td>\n",
       "    </tr>\n",
       "    <tr>\n",
       "      <th>78011</th>\n",
       "      <td>chr12</td>\n",
       "      <td>85520704</td>\n",
       "      <td>85520714</td>\n",
       "      <td>signal;85520664;37534;Fos</td>\n",
       "      <td>17.330</td>\n",
       "      <td>+</td>\n",
       "      <td>85520664</td>\n",
       "      <td>40</td>\n",
       "    </tr>\n",
       "    <tr>\n",
       "      <th>78012</th>\n",
       "      <td>chr12</td>\n",
       "      <td>85520714</td>\n",
       "      <td>85520724</td>\n",
       "      <td>signal;85520664;37534;Fos</td>\n",
       "      <td>9.099</td>\n",
       "      <td>+</td>\n",
       "      <td>85520664</td>\n",
       "      <td>60</td>\n",
       "    </tr>\n",
       "    <tr>\n",
       "      <th>78013</th>\n",
       "      <td>chr12</td>\n",
       "      <td>85520724</td>\n",
       "      <td>85520734</td>\n",
       "      <td>signal;85520664;37534;Fos</td>\n",
       "      <td>3.184</td>\n",
       "      <td>+</td>\n",
       "      <td>85520664</td>\n",
       "      <td>60</td>\n",
       "    </tr>\n",
       "    <tr>\n",
       "      <th>78014</th>\n",
       "      <td>chr12</td>\n",
       "      <td>85520734</td>\n",
       "      <td>85520744</td>\n",
       "      <td>signal;85520664;37534;Fos</td>\n",
       "      <td>1.229</td>\n",
       "      <td>+</td>\n",
       "      <td>85520664</td>\n",
       "      <td>80</td>\n",
       "    </tr>\n",
       "    <tr>\n",
       "      <th>78015</th>\n",
       "      <td>chr12</td>\n",
       "      <td>85520744</td>\n",
       "      <td>85520754</td>\n",
       "      <td>signal;85520664;37534;Fos</td>\n",
       "      <td>0.266</td>\n",
       "      <td>+</td>\n",
       "      <td>85520664</td>\n",
       "      <td>80</td>\n",
       "    </tr>\n",
       "    <tr>\n",
       "      <th>78016</th>\n",
       "      <td>chr12</td>\n",
       "      <td>85520754</td>\n",
       "      <td>85520764</td>\n",
       "      <td>signal;85520664;37534;Fos</td>\n",
       "      <td>1.016</td>\n",
       "      <td>+</td>\n",
       "      <td>85520664</td>\n",
       "      <td>100</td>\n",
       "    </tr>\n",
       "    <tr>\n",
       "      <th>78017</th>\n",
       "      <td>chr12</td>\n",
       "      <td>85520764</td>\n",
       "      <td>85520774</td>\n",
       "      <td>signal;85520664;37534;Fos</td>\n",
       "      <td>1.416</td>\n",
       "      <td>+</td>\n",
       "      <td>85520664</td>\n",
       "      <td>100</td>\n",
       "    </tr>\n",
       "    <tr>\n",
       "      <th>78018</th>\n",
       "      <td>chr12</td>\n",
       "      <td>85520774</td>\n",
       "      <td>85520784</td>\n",
       "      <td>signal;85520664;37534;Fos</td>\n",
       "      <td>1.416</td>\n",
       "      <td>+</td>\n",
       "      <td>85520664</td>\n",
       "      <td>120</td>\n",
       "    </tr>\n",
       "    <tr>\n",
       "      <th>78019</th>\n",
       "      <td>chr12</td>\n",
       "      <td>85520784</td>\n",
       "      <td>85520794</td>\n",
       "      <td>signal;85520664;37534;Fos</td>\n",
       "      <td>1.833</td>\n",
       "      <td>+</td>\n",
       "      <td>85520664</td>\n",
       "      <td>120</td>\n",
       "    </tr>\n",
       "    <tr>\n",
       "      <th>78020</th>\n",
       "      <td>chr12</td>\n",
       "      <td>85520794</td>\n",
       "      <td>85520804</td>\n",
       "      <td>signal;85520664;37534;Fos</td>\n",
       "      <td>1.333</td>\n",
       "      <td>+</td>\n",
       "      <td>85520664</td>\n",
       "      <td>140</td>\n",
       "    </tr>\n",
       "    <tr>\n",
       "      <th>78021</th>\n",
       "      <td>chr12</td>\n",
       "      <td>85520804</td>\n",
       "      <td>85520814</td>\n",
       "      <td>signal;85520664;37534;Fos</td>\n",
       "      <td>1.194</td>\n",
       "      <td>+</td>\n",
       "      <td>85520664</td>\n",
       "      <td>140</td>\n",
       "    </tr>\n",
       "    <tr>\n",
       "      <th>78022</th>\n",
       "      <td>chr12</td>\n",
       "      <td>85520814</td>\n",
       "      <td>85520824</td>\n",
       "      <td>control_down;85520664;37534;Fos</td>\n",
       "      <td>0.861</td>\n",
       "      <td>+</td>\n",
       "      <td>85520664</td>\n",
       "      <td>160</td>\n",
       "    </tr>\n",
       "    <tr>\n",
       "      <th>78023</th>\n",
       "      <td>chr12</td>\n",
       "      <td>85520824</td>\n",
       "      <td>85520834</td>\n",
       "      <td>control_down;85520664;37534;Fos</td>\n",
       "      <td>0.611</td>\n",
       "      <td>+</td>\n",
       "      <td>85520664</td>\n",
       "      <td>160</td>\n",
       "    </tr>\n",
       "    <tr>\n",
       "      <th>78024</th>\n",
       "      <td>chr12</td>\n",
       "      <td>85520834</td>\n",
       "      <td>85520844</td>\n",
       "      <td>control_down;85520664;37534;Fos</td>\n",
       "      <td>0.361</td>\n",
       "      <td>+</td>\n",
       "      <td>85520664</td>\n",
       "      <td>180</td>\n",
       "    </tr>\n",
       "    <tr>\n",
       "      <th>78025</th>\n",
       "      <td>chr12</td>\n",
       "      <td>85520844</td>\n",
       "      <td>85520854</td>\n",
       "      <td>control_down;85520664;37534;Fos</td>\n",
       "      <td>0.596</td>\n",
       "      <td>+</td>\n",
       "      <td>85520664</td>\n",
       "      <td>180</td>\n",
       "    </tr>\n",
       "    <tr>\n",
       "      <th>78026</th>\n",
       "      <td>chr12</td>\n",
       "      <td>85520854</td>\n",
       "      <td>85520864</td>\n",
       "      <td>control_down;85520664;37534;Fos</td>\n",
       "      <td>0.596</td>\n",
       "      <td>+</td>\n",
       "      <td>85520664</td>\n",
       "      <td>200</td>\n",
       "    </tr>\n",
       "    <tr>\n",
       "      <th>78027</th>\n",
       "      <td>chr12</td>\n",
       "      <td>85520864</td>\n",
       "      <td>85520874</td>\n",
       "      <td>control_down;85520664;37534;Fos</td>\n",
       "      <td>0.929</td>\n",
       "      <td>+</td>\n",
       "      <td>85520664</td>\n",
       "      <td>200</td>\n",
       "    </tr>\n",
       "    <tr>\n",
       "      <th>78028</th>\n",
       "      <td>chr12</td>\n",
       "      <td>85520874</td>\n",
       "      <td>85520884</td>\n",
       "      <td>control_down;85520664;37534;Fos</td>\n",
       "      <td>1.429</td>\n",
       "      <td>+</td>\n",
       "      <td>85520664</td>\n",
       "      <td>220</td>\n",
       "    </tr>\n",
       "    <tr>\n",
       "      <th>78029</th>\n",
       "      <td>chr12</td>\n",
       "      <td>85520884</td>\n",
       "      <td>85520894</td>\n",
       "      <td>control_down;85520664;37534;Fos</td>\n",
       "      <td>1.429</td>\n",
       "      <td>+</td>\n",
       "      <td>85520664</td>\n",
       "      <td>220</td>\n",
       "    </tr>\n",
       "    <tr>\n",
       "      <th>78030</th>\n",
       "      <td>chr12</td>\n",
       "      <td>85520894</td>\n",
       "      <td>85520904</td>\n",
       "      <td>control_down;85520664;37534;Fos</td>\n",
       "      <td>0.951</td>\n",
       "      <td>+</td>\n",
       "      <td>85520664</td>\n",
       "      <td>240</td>\n",
       "    </tr>\n",
       "    <tr>\n",
       "      <th>78031</th>\n",
       "      <td>chr12</td>\n",
       "      <td>85520904</td>\n",
       "      <td>85520914</td>\n",
       "      <td>control_down;85520664;37534;Fos</td>\n",
       "      <td>0.951</td>\n",
       "      <td>+</td>\n",
       "      <td>85520664</td>\n",
       "      <td>240</td>\n",
       "    </tr>\n",
       "    <tr>\n",
       "      <th>78032</th>\n",
       "      <td>chr12</td>\n",
       "      <td>85520914</td>\n",
       "      <td>85520924</td>\n",
       "      <td>control_down;85520664;37534;Fos</td>\n",
       "      <td>0.647</td>\n",
       "      <td>+</td>\n",
       "      <td>85520664</td>\n",
       "      <td>260</td>\n",
       "    </tr>\n",
       "    <tr>\n",
       "      <th>78033</th>\n",
       "      <td>chr12</td>\n",
       "      <td>85520924</td>\n",
       "      <td>85520934</td>\n",
       "      <td>control_down;85520664;37534;Fos</td>\n",
       "      <td>0.789</td>\n",
       "      <td>+</td>\n",
       "      <td>85520664</td>\n",
       "      <td>260</td>\n",
       "    </tr>\n",
       "    <tr>\n",
       "      <th>78034</th>\n",
       "      <td>chr12</td>\n",
       "      <td>85520934</td>\n",
       "      <td>85520944</td>\n",
       "      <td>control_down;85520664;37534;Fos</td>\n",
       "      <td>0.970</td>\n",
       "      <td>+</td>\n",
       "      <td>85520664</td>\n",
       "      <td>280</td>\n",
       "    </tr>\n",
       "    <tr>\n",
       "      <th>78035</th>\n",
       "      <td>chr12</td>\n",
       "      <td>85520944</td>\n",
       "      <td>85520954</td>\n",
       "      <td>control_down;85520664;37534;Fos</td>\n",
       "      <td>1.220</td>\n",
       "      <td>+</td>\n",
       "      <td>85520664</td>\n",
       "      <td>280</td>\n",
       "    </tr>\n",
       "    <tr>\n",
       "      <th>78036</th>\n",
       "      <td>chr12</td>\n",
       "      <td>85520955</td>\n",
       "      <td>85520965</td>\n",
       "      <td>control_down;85520664;37534;Fos</td>\n",
       "      <td>1.054</td>\n",
       "      <td>+</td>\n",
       "      <td>85520664</td>\n",
       "      <td>300</td>\n",
       "    </tr>\n",
       "    <tr>\n",
       "      <th>78037</th>\n",
       "      <td>chr12</td>\n",
       "      <td>85520965</td>\n",
       "      <td>85520975</td>\n",
       "      <td>control_down;85520664;37534;Fos</td>\n",
       "      <td>1.196</td>\n",
       "      <td>+</td>\n",
       "      <td>85520664</td>\n",
       "      <td>310</td>\n",
       "    </tr>\n",
       "    <tr>\n",
       "      <th>78038</th>\n",
       "      <td>chr12</td>\n",
       "      <td>85520975</td>\n",
       "      <td>85520985</td>\n",
       "      <td>control_down;85520664;37534;Fos</td>\n",
       "      <td>1.196</td>\n",
       "      <td>+</td>\n",
       "      <td>85520664</td>\n",
       "      <td>320</td>\n",
       "    </tr>\n",
       "    <tr>\n",
       "      <th>78039</th>\n",
       "      <td>chr12</td>\n",
       "      <td>85520985</td>\n",
       "      <td>85520995</td>\n",
       "      <td>control_down;85520664;37534;Fos</td>\n",
       "      <td>0.946</td>\n",
       "      <td>+</td>\n",
       "      <td>85520664</td>\n",
       "      <td>330</td>\n",
       "    </tr>\n",
       "    <tr>\n",
       "      <th>78040</th>\n",
       "      <td>chr12</td>\n",
       "      <td>85520995</td>\n",
       "      <td>85521005</td>\n",
       "      <td>control_down;85520664;37534;Fos</td>\n",
       "      <td>0.804</td>\n",
       "      <td>+</td>\n",
       "      <td>85520664</td>\n",
       "      <td>340</td>\n",
       "    </tr>\n",
       "    <tr>\n",
       "      <th>78041</th>\n",
       "      <td>chr12</td>\n",
       "      <td>85521005</td>\n",
       "      <td>85521015</td>\n",
       "      <td>control_down;85520664;37534;Fos</td>\n",
       "      <td>0.804</td>\n",
       "      <td>+</td>\n",
       "      <td>85520664</td>\n",
       "      <td>350</td>\n",
       "    </tr>\n",
       "    <tr>\n",
       "      <th>78042</th>\n",
       "      <td>chr12</td>\n",
       "      <td>85521015</td>\n",
       "      <td>85521025</td>\n",
       "      <td>control_down;85520664;37534;Fos</td>\n",
       "      <td>0.629</td>\n",
       "      <td>+</td>\n",
       "      <td>85520664</td>\n",
       "      <td>360</td>\n",
       "    </tr>\n",
       "    <tr>\n",
       "      <th>78043</th>\n",
       "      <td>chr12</td>\n",
       "      <td>85521025</td>\n",
       "      <td>85521035</td>\n",
       "      <td>control_down;85520664;37534;Fos</td>\n",
       "      <td>0.448</td>\n",
       "      <td>+</td>\n",
       "      <td>85520664</td>\n",
       "      <td>370</td>\n",
       "    </tr>\n",
       "    <tr>\n",
       "      <th>78044</th>\n",
       "      <td>chr12</td>\n",
       "      <td>85521035</td>\n",
       "      <td>85521045</td>\n",
       "      <td>control_down;85520664;37534;Fos</td>\n",
       "      <td>0.306</td>\n",
       "      <td>+</td>\n",
       "      <td>85520664</td>\n",
       "      <td>380</td>\n",
       "    </tr>\n",
       "    <tr>\n",
       "      <th>78045</th>\n",
       "      <td>chr12</td>\n",
       "      <td>85521045</td>\n",
       "      <td>85521055</td>\n",
       "      <td>control_down;85520664;37534;Fos</td>\n",
       "      <td>0.125</td>\n",
       "      <td>+</td>\n",
       "      <td>85520664</td>\n",
       "      <td>390</td>\n",
       "    </tr>\n",
       "    <tr>\n",
       "      <th>78046</th>\n",
       "      <td>chr12</td>\n",
       "      <td>85521055</td>\n",
       "      <td>85521065</td>\n",
       "      <td>control_down;85520664;37534;Fos</td>\n",
       "      <td>0.125</td>\n",
       "      <td>+</td>\n",
       "      <td>85520664</td>\n",
       "      <td>400</td>\n",
       "    </tr>\n",
       "    <tr>\n",
       "      <th>78047</th>\n",
       "      <td>chr12</td>\n",
       "      <td>85521065</td>\n",
       "      <td>85521075</td>\n",
       "      <td>control_down;85520664;37534;Fos</td>\n",
       "      <td>0.125</td>\n",
       "      <td>+</td>\n",
       "      <td>85520664</td>\n",
       "      <td>410</td>\n",
       "    </tr>\n",
       "    <tr>\n",
       "      <th>78048</th>\n",
       "      <td>chr12</td>\n",
       "      <td>85521075</td>\n",
       "      <td>85521085</td>\n",
       "      <td>control_down;85520664;37534;Fos</td>\n",
       "      <td>0.125</td>\n",
       "      <td>+</td>\n",
       "      <td>85520664</td>\n",
       "      <td>420</td>\n",
       "    </tr>\n",
       "    <tr>\n",
       "      <th>78049</th>\n",
       "      <td>chr12</td>\n",
       "      <td>85521085</td>\n",
       "      <td>85521095</td>\n",
       "      <td>control_down;85520664;37534;Fos</td>\n",
       "      <td>0.125</td>\n",
       "      <td>+</td>\n",
       "      <td>85520664</td>\n",
       "      <td>430</td>\n",
       "    </tr>\n",
       "    <tr>\n",
       "      <th>78050</th>\n",
       "      <td>chr12</td>\n",
       "      <td>85521095</td>\n",
       "      <td>85521105</td>\n",
       "      <td>control_down;85520664;37534;Fos</td>\n",
       "      <td>0.000</td>\n",
       "      <td>+</td>\n",
       "      <td>85520664</td>\n",
       "      <td>440</td>\n",
       "    </tr>\n",
       "    <tr>\n",
       "      <th>78051</th>\n",
       "      <td>chr12</td>\n",
       "      <td>85521105</td>\n",
       "      <td>85521115</td>\n",
       "      <td>control_down;85520664;37534;Fos</td>\n",
       "      <td>0.000</td>\n",
       "      <td>+</td>\n",
       "      <td>85520664</td>\n",
       "      <td>450</td>\n",
       "    </tr>\n",
       "    <tr>\n",
       "      <th>78052</th>\n",
       "      <td>chr12</td>\n",
       "      <td>85521115</td>\n",
       "      <td>85521125</td>\n",
       "      <td>control_down;85520664;37534;Fos</td>\n",
       "      <td>0.000</td>\n",
       "      <td>+</td>\n",
       "      <td>85520664</td>\n",
       "      <td>460</td>\n",
       "    </tr>\n",
       "    <tr>\n",
       "      <th>78053</th>\n",
       "      <td>chr12</td>\n",
       "      <td>85521125</td>\n",
       "      <td>85521135</td>\n",
       "      <td>control_down;85520664;37534;Fos</td>\n",
       "      <td>0.250</td>\n",
       "      <td>+</td>\n",
       "      <td>85520664</td>\n",
       "      <td>470</td>\n",
       "    </tr>\n",
       "    <tr>\n",
       "      <th>78054</th>\n",
       "      <td>chr12</td>\n",
       "      <td>85521135</td>\n",
       "      <td>85521145</td>\n",
       "      <td>control_down;85520664;37534;Fos</td>\n",
       "      <td>0.250</td>\n",
       "      <td>+</td>\n",
       "      <td>85520664</td>\n",
       "      <td>480</td>\n",
       "    </tr>\n",
       "  </tbody>\n",
       "</table>\n",
       "</div>"
      ],
      "text/plain": [
       "         chr     start       end                             name       r  \\\n",
       "78005  chr12  85520651  85520661    control_up;85520664;37534;Fos   1.116   \n",
       "78006  chr12  85520661  85520663    control_up;85520664;37534;Fos   5.465   \n",
       "78007  chr12  85520664  85520674        signal;85520664;37534;Fos  21.436   \n",
       "78008  chr12  85520674  85520684        signal;85520664;37534;Fos  35.726   \n",
       "78009  chr12  85520684  85520694        signal;85520664;37534;Fos  35.542   \n",
       "78010  chr12  85520694  85520704        signal;85520664;37534;Fos  27.344   \n",
       "78011  chr12  85520704  85520714        signal;85520664;37534;Fos  17.330   \n",
       "78012  chr12  85520714  85520724        signal;85520664;37534;Fos   9.099   \n",
       "78013  chr12  85520724  85520734        signal;85520664;37534;Fos   3.184   \n",
       "78014  chr12  85520734  85520744        signal;85520664;37534;Fos   1.229   \n",
       "78015  chr12  85520744  85520754        signal;85520664;37534;Fos   0.266   \n",
       "78016  chr12  85520754  85520764        signal;85520664;37534;Fos   1.016   \n",
       "78017  chr12  85520764  85520774        signal;85520664;37534;Fos   1.416   \n",
       "78018  chr12  85520774  85520784        signal;85520664;37534;Fos   1.416   \n",
       "78019  chr12  85520784  85520794        signal;85520664;37534;Fos   1.833   \n",
       "78020  chr12  85520794  85520804        signal;85520664;37534;Fos   1.333   \n",
       "78021  chr12  85520804  85520814        signal;85520664;37534;Fos   1.194   \n",
       "78022  chr12  85520814  85520824  control_down;85520664;37534;Fos   0.861   \n",
       "78023  chr12  85520824  85520834  control_down;85520664;37534;Fos   0.611   \n",
       "78024  chr12  85520834  85520844  control_down;85520664;37534;Fos   0.361   \n",
       "78025  chr12  85520844  85520854  control_down;85520664;37534;Fos   0.596   \n",
       "78026  chr12  85520854  85520864  control_down;85520664;37534;Fos   0.596   \n",
       "78027  chr12  85520864  85520874  control_down;85520664;37534;Fos   0.929   \n",
       "78028  chr12  85520874  85520884  control_down;85520664;37534;Fos   1.429   \n",
       "78029  chr12  85520884  85520894  control_down;85520664;37534;Fos   1.429   \n",
       "78030  chr12  85520894  85520904  control_down;85520664;37534;Fos   0.951   \n",
       "78031  chr12  85520904  85520914  control_down;85520664;37534;Fos   0.951   \n",
       "78032  chr12  85520914  85520924  control_down;85520664;37534;Fos   0.647   \n",
       "78033  chr12  85520924  85520934  control_down;85520664;37534;Fos   0.789   \n",
       "78034  chr12  85520934  85520944  control_down;85520664;37534;Fos   0.970   \n",
       "78035  chr12  85520944  85520954  control_down;85520664;37534;Fos   1.220   \n",
       "78036  chr12  85520955  85520965  control_down;85520664;37534;Fos   1.054   \n",
       "78037  chr12  85520965  85520975  control_down;85520664;37534;Fos   1.196   \n",
       "78038  chr12  85520975  85520985  control_down;85520664;37534;Fos   1.196   \n",
       "78039  chr12  85520985  85520995  control_down;85520664;37534;Fos   0.946   \n",
       "78040  chr12  85520995  85521005  control_down;85520664;37534;Fos   0.804   \n",
       "78041  chr12  85521005  85521015  control_down;85520664;37534;Fos   0.804   \n",
       "78042  chr12  85521015  85521025  control_down;85520664;37534;Fos   0.629   \n",
       "78043  chr12  85521025  85521035  control_down;85520664;37534;Fos   0.448   \n",
       "78044  chr12  85521035  85521045  control_down;85520664;37534;Fos   0.306   \n",
       "78045  chr12  85521045  85521055  control_down;85520664;37534;Fos   0.125   \n",
       "78046  chr12  85521055  85521065  control_down;85520664;37534;Fos   0.125   \n",
       "78047  chr12  85521065  85521075  control_down;85520664;37534;Fos   0.125   \n",
       "78048  chr12  85521075  85521085  control_down;85520664;37534;Fos   0.125   \n",
       "78049  chr12  85521085  85521095  control_down;85520664;37534;Fos   0.125   \n",
       "78050  chr12  85521095  85521105  control_down;85520664;37534;Fos   0.000   \n",
       "78051  chr12  85521105  85521115  control_down;85520664;37534;Fos   0.000   \n",
       "78052  chr12  85521115  85521125  control_down;85520664;37534;Fos   0.000   \n",
       "78053  chr12  85521125  85521135  control_down;85520664;37534;Fos   0.250   \n",
       "78054  chr12  85521135  85521145  control_down;85520664;37534;Fos   0.250   \n",
       "\n",
       "      strand       TSS  pos_rel_to_TSS  \n",
       "78005      +  85520664             -10  \n",
       "78006      +  85520664               0  \n",
       "78007      +  85520664               0  \n",
       "78008      +  85520664              20  \n",
       "78009      +  85520664              20  \n",
       "78010      +  85520664              40  \n",
       "78011      +  85520664              40  \n",
       "78012      +  85520664              60  \n",
       "78013      +  85520664              60  \n",
       "78014      +  85520664              80  \n",
       "78015      +  85520664              80  \n",
       "78016      +  85520664             100  \n",
       "78017      +  85520664             100  \n",
       "78018      +  85520664             120  \n",
       "78019      +  85520664             120  \n",
       "78020      +  85520664             140  \n",
       "78021      +  85520664             140  \n",
       "78022      +  85520664             160  \n",
       "78023      +  85520664             160  \n",
       "78024      +  85520664             180  \n",
       "78025      +  85520664             180  \n",
       "78026      +  85520664             200  \n",
       "78027      +  85520664             200  \n",
       "78028      +  85520664             220  \n",
       "78029      +  85520664             220  \n",
       "78030      +  85520664             240  \n",
       "78031      +  85520664             240  \n",
       "78032      +  85520664             260  \n",
       "78033      +  85520664             260  \n",
       "78034      +  85520664             280  \n",
       "78035      +  85520664             280  \n",
       "78036      +  85520664             300  \n",
       "78037      +  85520664             310  \n",
       "78038      +  85520664             320  \n",
       "78039      +  85520664             330  \n",
       "78040      +  85520664             340  \n",
       "78041      +  85520664             350  \n",
       "78042      +  85520664             360  \n",
       "78043      +  85520664             370  \n",
       "78044      +  85520664             380  \n",
       "78045      +  85520664             390  \n",
       "78046      +  85520664             400  \n",
       "78047      +  85520664             410  \n",
       "78048      +  85520664             420  \n",
       "78049      +  85520664             430  \n",
       "78050      +  85520664             440  \n",
       "78051      +  85520664             450  \n",
       "78052      +  85520664             460  \n",
       "78053      +  85520664             470  \n",
       "78054      +  85520664             480  "
      ]
     },
     "execution_count": 32,
     "metadata": {},
     "output_type": "execute_result"
    }
   ],
   "source": [
    "bin_counts.loc[bin_counts['name'].str.contains('Fos')].head(150).tail(50)"
   ]
  },
  {
   "cell_type": "code",
   "execution_count": 13,
   "id": "a96cbf06-c96f-4973-8b4c-23bc60f5f155",
   "metadata": {},
   "outputs": [
    {
     "data": {
      "text/html": [
       "<div>\n",
       "<style scoped>\n",
       "    .dataframe tbody tr th:only-of-type {\n",
       "        vertical-align: middle;\n",
       "    }\n",
       "\n",
       "    .dataframe tbody tr th {\n",
       "        vertical-align: top;\n",
       "    }\n",
       "\n",
       "    .dataframe thead th {\n",
       "        text-align: right;\n",
       "    }\n",
       "</style>\n",
       "<table border=\"1\" class=\"dataframe\">\n",
       "  <thead>\n",
       "    <tr style=\"text-align: right;\">\n",
       "      <th></th>\n",
       "      <th>chr</th>\n",
       "      <th>start</th>\n",
       "      <th>end</th>\n",
       "      <th>strand</th>\n",
       "      <th>segment_name</th>\n",
       "      <th>uniquely_mapped;0</th>\n",
       "      <th>uniquely_mapped;1</th>\n",
       "      <th>multimapped;0</th>\n",
       "      <th>multimapped;1</th>\n",
       "    </tr>\n",
       "  </thead>\n",
       "  <tbody>\n",
       "    <tr>\n",
       "      <th>0</th>\n",
       "      <td>chr13</td>\n",
       "      <td>3057720</td>\n",
       "      <td>3057730</td>\n",
       "      <td>+</td>\n",
       "      <td>five_prime_only_gene_flank;38636</td>\n",
       "      <td>0.0</td>\n",
       "      <td>0.0</td>\n",
       "      <td>0.0</td>\n",
       "      <td>0.0</td>\n",
       "    </tr>\n",
       "    <tr>\n",
       "      <th>1</th>\n",
       "      <td>chr13</td>\n",
       "      <td>3057730</td>\n",
       "      <td>3057740</td>\n",
       "      <td>+</td>\n",
       "      <td>five_prime_only_gene_flank;38636</td>\n",
       "      <td>0.0</td>\n",
       "      <td>0.0</td>\n",
       "      <td>0.0</td>\n",
       "      <td>0.0</td>\n",
       "    </tr>\n",
       "    <tr>\n",
       "      <th>2</th>\n",
       "      <td>chr13</td>\n",
       "      <td>3057740</td>\n",
       "      <td>3057750</td>\n",
       "      <td>+</td>\n",
       "      <td>five_prime_only_gene_flank;38636</td>\n",
       "      <td>0.0</td>\n",
       "      <td>0.0</td>\n",
       "      <td>0.0</td>\n",
       "      <td>0.0</td>\n",
       "    </tr>\n",
       "    <tr>\n",
       "      <th>3</th>\n",
       "      <td>chr13</td>\n",
       "      <td>3057750</td>\n",
       "      <td>3057760</td>\n",
       "      <td>+</td>\n",
       "      <td>five_prime_only_gene_flank;38636</td>\n",
       "      <td>0.0</td>\n",
       "      <td>0.0</td>\n",
       "      <td>0.0</td>\n",
       "      <td>0.0</td>\n",
       "    </tr>\n",
       "    <tr>\n",
       "      <th>4</th>\n",
       "      <td>chr13</td>\n",
       "      <td>3057760</td>\n",
       "      <td>3057770</td>\n",
       "      <td>+</td>\n",
       "      <td>five_prime_only_gene_flank;38636</td>\n",
       "      <td>0.0</td>\n",
       "      <td>0.0</td>\n",
       "      <td>0.0</td>\n",
       "      <td>0.0</td>\n",
       "    </tr>\n",
       "  </tbody>\n",
       "</table>\n",
       "</div>"
      ],
      "text/plain": [
       "     chr    start      end strand                      segment_name  \\\n",
       "0  chr13  3057720  3057730      +  five_prime_only_gene_flank;38636   \n",
       "1  chr13  3057730  3057740      +  five_prime_only_gene_flank;38636   \n",
       "2  chr13  3057740  3057750      +  five_prime_only_gene_flank;38636   \n",
       "3  chr13  3057750  3057760      +  five_prime_only_gene_flank;38636   \n",
       "4  chr13  3057760  3057770      +  five_prime_only_gene_flank;38636   \n",
       "\n",
       "   uniquely_mapped;0  uniquely_mapped;1  multimapped;0  multimapped;1  \n",
       "0                0.0                0.0            0.0            0.0  \n",
       "1                0.0                0.0            0.0            0.0  \n",
       "2                0.0                0.0            0.0            0.0  \n",
       "3                0.0                0.0            0.0            0.0  \n",
       "4                0.0                0.0            0.0            0.0  "
      ]
     },
     "execution_count": 13,
     "metadata": {},
     "output_type": "execute_result"
    }
   ],
   "source": [
    "bin_counts = bin_counts.drop_duplicates(['chr','start','end','strand']).reset_index(drop=True)\n"
   ]
  },
  {
   "cell_type": "code",
   "execution_count": null,
   "id": "f37acc4f-bf48-4c91-bbe5-ce0ffe2e4289",
   "metadata": {},
   "outputs": [],
   "source": []
  },
  {
   "cell_type": "code",
   "execution_count": 67,
   "id": "727e80a0-35b8-446f-8d0c-8ccd39512183",
   "metadata": {},
   "outputs": [
    {
     "data": {
      "text/plain": [
       "-0.46221943600891674"
      ]
     },
     "execution_count": 67,
     "metadata": {},
     "output_type": "execute_result"
    }
   ],
   "source": [
    "#  TT-seq\n",
    "expr_ctl, expr_KD = 37, 26\n",
    "library_ctl,library_KD = 94, 91\n",
    "np.log2((expr_KD/library_KD)/(expr_ctl/library_ctl))"
   ]
  },
  {
   "cell_type": "code",
   "execution_count": 61,
   "id": "a3dc4957-55d4-404d-bc7e-6d5672f96ad0",
   "metadata": {},
   "outputs": [
    {
     "data": {
      "text/plain": [
       "0.5594274086140185"
      ]
     },
     "execution_count": 61,
     "metadata": {},
     "output_type": "execute_result"
    }
   ],
   "source": [
    "#  lab RNA-seq\n",
    "expr_ctl, expr_KD = 10, 12\n",
    "library_ctl,library_KD = 70, 57\n",
    "np.log2((expr_KD/library_KD)/(expr_ctl/library_ctl))"
   ]
  },
  {
   "cell_type": "code",
   "execution_count": 66,
   "id": "be2065c1-7da7-43fe-8659-5d47d8c5ad50",
   "metadata": {},
   "outputs": [
    {
     "data": {
      "text/plain": [
       "0.24748340229927837"
      ]
     },
     "execution_count": 66,
     "metadata": {},
     "output_type": "execute_result"
    }
   ],
   "source": [
    "#  RNA-seq SI paper\n",
    "expr_ctl, expr_KD = 24,28\n",
    "library_ctl,library_KD = 58, 57\n",
    "np.log2((expr_KD/library_KD)/(expr_ctl/library_ctl))"
   ]
  },
  {
   "cell_type": "code",
   "execution_count": 74,
   "id": "ee8eb71b-c2fd-4a59-a9a2-72eefdaa5650",
   "metadata": {},
   "outputs": [
    {
     "data": {
      "text/plain": [
       "0.6686732071103879"
      ]
     },
     "execution_count": 74,
     "metadata": {},
     "output_type": "execute_result"
    }
   ],
   "source": [
    "#  RNA-seq degron paper\n",
    "expr_ctl, expr_KD = 14,17\n",
    "library_ctl,library_KD = 72, 55\n",
    "np.log2((expr_KD/library_KD)/(expr_ctl/library_ctl))"
   ]
  },
  {
   "cell_type": "code",
   "execution_count": null,
   "id": "81a9828c-3bca-40f9-8813-d111eda4683f",
   "metadata": {},
   "outputs": [],
   "source": []
  },
  {
   "cell_type": "code",
   "execution_count": null,
   "id": "e21388a4-9faf-4daa-87e8-ed1e0c64e731",
   "metadata": {},
   "outputs": [],
   "source": []
  },
  {
   "cell_type": "code",
   "execution_count": null,
   "id": "04635511-4e7e-4fba-b899-5da39c37d997",
   "metadata": {},
   "outputs": [],
   "source": []
  },
  {
   "cell_type": "code",
   "execution_count": 27,
   "id": "76ae8495-004d-4f03-859c-cf1eaafc8d1c",
   "metadata": {},
   "outputs": [
    {
     "data": {
      "text/plain": [
       "(0.07833836473519383, 0.07687943978759948, 0.0783538818359375)"
      ]
     },
     "execution_count": 27,
     "metadata": {},
     "output_type": "execute_result"
    }
   ],
   "source": [
    "k1,k2 = 15,6\n",
    "stats.fisher_exact([[k1,10**5],[k2,10**5]])[1],stats.fisher_exact([[k1,10**3],[k2,10**3]])[1],stats.binomtest(k=k1,n=k1+k2,alternative='two-sided').pvalue"
   ]
  },
  {
   "cell_type": "code",
   "execution_count": null,
   "id": "999113a0-623c-4eed-a0ab-0137a04ff7c9",
   "metadata": {},
   "outputs": [],
   "source": []
  },
  {
   "cell_type": "code",
   "execution_count": null,
   "id": "b5045c03-f742-4275-8312-afdf6b7ce7f5",
   "metadata": {},
   "outputs": [],
   "source": [
    "s=$(zcat /scicore/home/zavolan/GROUP/StefanieCLIP/aleksei/output/samples/INTS11C_replicate10_exp5/map_genome/read_categories/2_um/INTS11C_replicate10_exp5.2_um.fastq.gz | head -n 2 | tail -n 1 | awk '{print length}')\n",
    "l=$((s<150 ? s : 150))"
   ]
  },
  {
   "cell_type": "code",
   "execution_count": null,
   "id": "69af85fe-eb01-4ba7-a291-9843bae85f2f",
   "metadata": {},
   "outputs": [],
   "source": []
  },
  {
   "cell_type": "code",
   "execution_count": null,
   "id": "0691a01a-6834-4a7d-a7a2-b2b0d98b7233",
   "metadata": {},
   "outputs": [],
   "source": []
  },
  {
   "cell_type": "code",
   "execution_count": null,
   "id": "70177a5e-cbff-4710-a1c8-1eee5abca9a6",
   "metadata": {},
   "outputs": [],
   "source": []
  },
  {
   "cell_type": "code",
   "execution_count": null,
   "id": "be1c76ca-c659-4827-bc66-a0e2bb118819",
   "metadata": {},
   "outputs": [],
   "source": []
  },
  {
   "cell_type": "code",
   "execution_count": null,
   "id": "bb144060-d302-4e73-82b2-3e223035ded8",
   "metadata": {},
   "outputs": [],
   "source": []
  },
  {
   "cell_type": "code",
   "execution_count": 4,
   "id": "24325f6f-b7d8-4a86-97d0-ad4f82839549",
   "metadata": {},
   "outputs": [
    {
     "data": {
      "text/plain": [
       "'picard FilterSamReads I=/scicore/home/zavolan/GROUP/StefanieCLIP/aleksei/output/samples/SRR15070640/map_genome/SRR15070640.dedup.sorted.indexed.bam O=/scicore/home/zavolan/GROUP/StefanieCLIP/aleksei/output/samples/SRR15070640/map_genome/read_categories/5_um/picard_test.sam READ_LIST_FILE=/scicore/home/zavolan/GROUP/StefanieCLIP/aleksei/output/samples/SRR15070640/map_genome/read_categories/5_um/SRR15070640.5_um.read_names.txt FILTER=includeReadList'"
      ]
     },
     "execution_count": 4,
     "metadata": {},
     "output_type": "execute_result"
    }
   ],
   "source": [
    "\"\"\"picard FilterSamReads I=/scicore/home/zavolan/GROUP/StefanieCLIP/aleksei/output/samples/SRR15070640/map_genome/SRR15070640.dedup.sorted.indexed.bam \\\n",
    "O=/scicore/home/zavolan/GROUP/StefanieCLIP/aleksei/output/samples/SRR15070640/map_genome/read_categories/5_um/picard_test.sam \\\n",
    "READ_LIST_FILE=/scicore/home/zavolan/GROUP/StefanieCLIP/aleksei/output/samples/SRR15070640/map_genome/read_categories/5_um/SRR15070640.5_um.read_names.txt \\\n",
    "FILTER=includeReadList\"\"\""
   ]
  },
  {
   "cell_type": "code",
   "execution_count": null,
   "id": "4f072a4a-ee60-4bae-becb-5df38de27876",
   "metadata": {},
   "outputs": [],
   "source": []
  },
  {
   "cell_type": "code",
   "execution_count": null,
   "id": "1319671b-8c15-4ecf-a318-b43d6d972537",
   "metadata": {},
   "outputs": [],
   "source": []
  },
  {
   "cell_type": "code",
   "execution_count": 7,
   "id": "ca9edb97-8e83-46f0-bf78-f210f9b20881",
   "metadata": {},
   "outputs": [
    {
     "data": {
      "text/plain": [
       "'python /scicore/home/zavolan/mirono0000/Projects/bCLIP/bclip_workflow/scripts/get_genome_segmentations.py --input_gtf /scicore/home/zavolan/GROUP/Genomes/mus_musculus/enriched.gencode.vM32.annotation.gtf --input_genome_fai /scicore/home/zavolan/GROUP/StefanieCLIP/aleksei/output/genome_indices/mouse/genome.fai --output_exon_intron_gs /scicore/home/zavolan/GROUP/StefanieCLIP/aleksei/output/transcriptome/mouse/exon_intron_genome_segmentation.bed --output_binned_gs /scicore/home/zavolan/GROUP/StefanieCLIP/aleksei/output/transcriptome/mouse/binned_genome_segmentation.bed --bin_size 10 --temp_dir /scicore/home/zavolan/GROUP/StefanieCLIP/aleksei/output/transcriptome/mouse/temp --output_modified_gtf /scicore/home/zavolan/GROUP/StefanieCLIP/aleksei/output/transcriptome/mouse/modified_annotation.gtf --gene_flank 1000'"
      ]
     },
     "execution_count": 7,
     "metadata": {},
     "output_type": "execute_result"
    }
   ],
   "source": [
    "command = \"\"\"python /scicore/home/zavolan/mirono0000/Projects/bCLIP/bclip_workflow/scripts/get_genome_segmentations.py \\\n",
    "--input_gtf /scicore/home/zavolan/GROUP/Genomes/mus_musculus/enriched.gencode.vM32.annotation.gtf \\\n",
    "--input_genome_fai /scicore/home/zavolan/GROUP/StefanieCLIP/aleksei/output/genome_indices/mouse/genome.fai \\\n",
    "--output_exon_intron_gs /scicore/home/zavolan/GROUP/StefanieCLIP/aleksei/output/transcriptome/mouse/exon_intron_genome_segmentation.bed \\\n",
    "--output_binned_gs /scicore/home/zavolan/GROUP/StefanieCLIP/aleksei/output/transcriptome/mouse/binned_genome_segmentation.bed \\\n",
    "--bin_size 10 \\\n",
    "--temp_dir /scicore/home/zavolan/GROUP/StefanieCLIP/aleksei/output/transcriptome/mouse/temp \\\n",
    "--output_modified_gtf /scicore/home/zavolan/GROUP/StefanieCLIP/aleksei/output/transcriptome/mouse/modified_annotation.gtf \\\n",
    "--gene_flank 1000\"\"\"\n",
    "command"
   ]
  },
  {
   "cell_type": "code",
   "execution_count": null,
   "id": "00360129-3022-42b7-a320-cefa38462a28",
   "metadata": {},
   "outputs": [],
   "source": []
  },
  {
   "cell_type": "code",
   "execution_count": null,
   "id": "764a14d3-8b44-493d-b576-e4c4ed09fd6b",
   "metadata": {},
   "outputs": [],
   "source": [
    "bedtools bamtobed -split -cigar -i /scicore/home/zavolan/GROUP/StefanieCLIP/aleksei/output/samples/NRDE2_replicate3_exp10/map_genome/NRDE2_replicate3_exp10.Aligned.sortedByCoord.out.bam"
   ]
  },
  {
   "cell_type": "code",
   "execution_count": null,
   "id": "4a8ef854-5604-4e8f-9ffb-39f279506430",
   "metadata": {},
   "outputs": [],
   "source": []
  },
  {
   "cell_type": "code",
   "execution_count": null,
   "id": "4a45447b-51ad-4f91-b306-f5f24956de25",
   "metadata": {},
   "outputs": [],
   "source": [
    "set +o pipefail; bedtools bamtobed -cigar -i {input.bam} | bedtools groupby -g 4 -c 7 -o distinct | awk '$2 !~ /,/' | awk '$2 !~ /N/' | bedtools groupby -g 2 -c 2 -o count > {output.cigar_frequencies}"
   ]
  },
  {
   "cell_type": "code",
   "execution_count": null,
   "id": "e51aefb7-d9ef-4aa0-9827-6b9170a673bb",
   "metadata": {},
   "outputs": [],
   "source": []
  },
  {
   "cell_type": "code",
   "execution_count": 22,
   "id": "a964949d-93f6-4e77-984f-d93ee654041f",
   "metadata": {},
   "outputs": [
    {
     "data": {
      "text/plain": [
       "'/scicore/home/zavolan/GROUP/StefanieCLIP/aleksei/output/samples/RBC_replicate1/map_genome/read_categories/'"
      ]
     },
     "execution_count": 22,
     "metadata": {},
     "output_type": "execute_result"
    }
   ],
   "source": [
    "import itertools\n",
    "\n",
    "grouped_bed_file_path = '/scicore/home/zavolan/GROUP/StefanieCLIP/aleksei/output/samples/RBC_replicate1/map_genome/RBC_replicate1.dedup.sorted.indexed.grouped.bed'\n",
    "bed_file_path = '/scicore/home/zavolan/GROUP/StefanieCLIP/aleksei/output/samples/RBC_replicate1/map_genome/RBC_replicate1.dedup.sorted.indexed.bed'\n",
    "\n",
    "outdir = os.path.dirname(grouped_bed_file_path)+'/read_categories/'\n",
    "sample_id = os.path.basename(grouped_bed_file_path).replace('.dedup.sorted.indexed.grouped.bed','')\n",
    "\n",
    "d_cats = [0,1,2,3,4,5]\n",
    "mm_modes = ['um','mm']\n",
    "\n",
    "read_categories = list(itertools.product(*[d_cats,mm_modes])) # cartesian product\n",
    "\n",
    "grouped_bed_file = pd.read_csv(grouped_bed_file_path,delimiter=\"\\t\",index_col=None,header=None)\n",
    "grouped_bed_file.columns = [0,1,2,'name','w',5,'d','wd','d_cat']\n",
    "\n",
    "for read_category in read_categories:\n",
    "    cat_name = '_'.join(list(pd.Series(read_category).astype('str')))\n",
    "    out_subdir = outdir+cat_name+'/'\n",
    "    command = 'mkdir -p '+out_subdir\n",
    "    out = subprocess.check_output(command, shell=True)    \n",
    "\n",
    "    output_read_names_path = out_subdir+sample_id+'.'+cat_name+'.read_names.txt'\n",
    "    output_read_weights_path = out_subdir+sample_id+'.'+cat_name+'.read_weights.txt'\n",
    "    \n",
    "    d_cat = read_category[0]\n",
    "    if read_category[1]=='um':\n",
    "        cur_reads = bed_file.loc[(bed_file['d_cat']==d_cat)&(bed_file['w']==1)]\n",
    "    else:\n",
    "        cur_reads = bed_file.loc[(bed_file['d_cat']==d_cat)&(bed_file['w']<1)]\n",
    "    if len(cur_reads)==0:\n",
    "        command = 'echo \"empty\" > '+output_read_names_path\n",
    "        out = subprocess.check_output(command, shell=True)\n",
    "        command = 'echo \"0\" > '+output_read_weights_path\n",
    "        out = subprocess.check_output(command, shell=True)\n",
    "        continue\n",
    "    cur_reads = cur_reads.sort_values([0,1,2])reset_index(drop=True)\n",
    "    cur_reads[[0,1,2,'name','w',5]].to_csv(out_subdir+'temp1.bed', sep=str('\\t'),header=True,index=None)\n",
    "    \n",
    "    command = 'bedtools intersect -a '+out_subdir+'temp1.bed -b '+bed_file_path+' -wo -f 1.0 -r -s | bedtools groupby -g <QNAME> -c <w> -o first > '+out_subdir+'temp2.bed'\n",
    "    out = subprocess.check_output(command, shell=True)\n",
    "    \n",
    "    command = 'cut -f1 '+out_subdir+'temp2.bed > '+output_read_names_path\n",
    "    out = subprocess.check_output(command, shell=True)\n",
    "    command = 'cut -f2 '+out_subdir+'temp2.bed > '+output_read_weights_path\n",
    "    out = subprocess.check_output(command, shell=True)\n",
    "\n",
    "    command = 'rm '+out_subdir+'temp2.bed '+out_subdir+'temp1.bed'\n",
    "    out = subprocess.check_output(command, shell=True)"
   ]
  },
  {
   "cell_type": "code",
   "execution_count": 23,
   "id": "4f139542-9bb7-4c07-9918-426a3b85f4e5",
   "metadata": {},
   "outputs": [
    {
     "data": {
      "text/plain": [
       "[(0, 'um'),\n",
       " (0, 'mm'),\n",
       " (1, 'um'),\n",
       " (1, 'mm'),\n",
       " (2, 'um'),\n",
       " (2, 'mm'),\n",
       " (3, 'um'),\n",
       " (3, 'mm'),\n",
       " (4, 'um'),\n",
       " (4, 'mm'),\n",
       " (5, 'um'),\n",
       " (5, 'mm')]"
      ]
     },
     "execution_count": 23,
     "metadata": {},
     "output_type": "execute_result"
    }
   ],
   "source": [
    "read_categories"
   ]
  },
  {
   "cell_type": "code",
   "execution_count": null,
   "id": "d980836c-93f7-4b8d-9afe-a4d1397c6558",
   "metadata": {},
   "outputs": [],
   "source": []
  },
  {
   "cell_type": "code",
   "execution_count": 16,
   "id": "e012fbe5-f676-4bd6-bc68-e9a184049643",
   "metadata": {},
   "outputs": [],
   "source": []
  },
  {
   "cell_type": "code",
   "execution_count": 18,
   "id": "97bc406b-dced-4589-8458-456e25cdfa0a",
   "metadata": {},
   "outputs": [
    {
     "name": "stdout",
     "output_type": "stream",
     "text": [
      "15\n",
      "sbatch /scicore/home/zavolan/GROUP/StefanieCLIP/aleksei/scripts/bracken_build.sbatch\n"
     ]
    }
   ],
   "source": [
    "# building bracken dbs for all lengths present\n",
    "kraken_db = '/scicore/home/zavolan/GROUP/Genomes/KRAKEN_DB/standard/'\n",
    "start_samples = pd.read_csv(subdirs['metadata_dir']+'start_samples.tsv',delimiter=\"\\t\",index_col=None,header=0)\n",
    "\n",
    "read_lengths_file_name = subdirs['temp_dir']+'read_lengths.tsv'\n",
    "read_lengths = pd.read_csv(subdirs['wf_output_dir']+'misc/max_read_lengths.tsv',delimiter=\"\\t\",index_col=None,header=0)\n",
    "read_lengths = read_lengths[['max_read_length_estimate']].drop_duplicates().rename(columns = {'max_read_length_estimate':'index_size'}).reset_index(drop=True)\n",
    "\n",
    "read_lengths['id'] = read_lengths.index+1\n",
    "read_lengths[['id','index_size']].to_csv(read_lengths_file_name, sep=str('\\t'),header=False,index=None)\n",
    "\n",
    "max_node_mem = 512\n",
    "mem = 400\n",
    "cpus = min(15,int(128/((max_node_mem*0.8)/mem)))\n",
    "print(str(cpus))\n",
    "\n",
    "f = open(subdirs['scripts_dir']+'bracken_build.sbatch', \"w\")\n",
    "\n",
    "preambula = \\\n",
    "\"\"\"#!/bin/bash\n",
    "  \n",
    "#SBATCH --job-name=bracken_build\n",
    "#SBATCH --time=5:00:00\n",
    "#SBATCH --qos=6hours\n",
    "#SBATCH --output=\"\"\"+subdirs['slurm_dir']+\"\"\"%A_%a.out\n",
    "#SBATCH --error=\"\"\"+subdirs['slurm_dir']+\"\"\"%A_%a.err\n",
    "#SBATCH --cpus-per-task=\"\"\"+str(cpus)+\"\"\"\n",
    "#SBATCH --mem=\"\"\"+str(mem)+\"\"\"G\n",
    "#SBATCH --array=1-\"\"\"+str(len(read_lengths))+\"\"\"%200\n",
    "\n",
    "source ~/.bashrc\n",
    "\"\"\"\n",
    "f.write(preambula)\n",
    "f.write(\"\"\"\n",
    "read_length=$(awk -v i=$SLURM_ARRAY_TASK_ID '{ if ($1 == i) { print $2} }' \"\"\"+read_lengths_file_name+\"\"\")\n",
    "echo $read_length\n",
    "\"\"\")\n",
    "\n",
    "command = \"\"\"bracken-build -d \"\"\"+kraken_db+\"\"\" -t \"\"\"+str(cpus)+\"\"\" -k 35 -l $read_length\"\"\"\n",
    "f.write(command)\n",
    "f.close()\n",
    "\n",
    "print('sbatch '+subdirs['scripts_dir']+'bracken_build.sbatch')"
   ]
  },
  {
   "cell_type": "code",
   "execution_count": 4,
   "id": "59ff0a7c-bb18-4c0f-a4fa-93c874256dd8",
   "metadata": {},
   "outputs": [
    {
     "name": "stdout",
     "output_type": "stream",
     "text": [
      "31\n",
      "sbatch /scicore/home/zavolan/GROUP/StefanieCLIP/aleksei/scripts/kraken_unmapped_reads.sbatch\n"
     ]
    }
   ],
   "source": [
    "# do kraken and bracken for unmapped reads\n",
    "kraken_db = '/scicore/home/zavolan/GROUP/Genomes/KRAKEN_DB/standard/'\n",
    "\n",
    "start_samples = pd.read_csv(subdirs['metadata_dir']+'start_samples.tsv',delimiter=\"\\t\",index_col=None,header=0)\n",
    "# get length estimates for samples\n",
    "l = []\n",
    "for sample in list(start_samples['name']):\n",
    "    rl = pd.read_csv(subdirs['wf_output_dir']+'samples/'+sample+'/read_length/'+sample+'.max_read_length.txt',header=None).loc[0,0]\n",
    "    l.append(rl)\n",
    "start_samples['index_size'] = l\n",
    "start_samples = start_samples.rename(columns={'name':'sample'})\n",
    "\n",
    "sample_file_name = subdirs['temp_dir']+'unmapped_fastq_file_paths.tsv'\n",
    "\n",
    "os.system(\"\"\"find \"\"\"+subdirs['wf_output_dir']+\"\"\" -name '*.Unmapped.out.fastq.gz' > \"\"\"+sample_file_name)\n",
    "fastq_file_paths = pd.read_csv(sample_file_name,delimiter=\"\\t\",\n",
    "                                   index_col=None,header=None)\n",
    "fastq_file_paths.columns = ['path']\n",
    "fastq_file_paths['output_dir'] = fastq_file_paths['path'].str.split('map_genome/',expand=True)[0]+'kraken/'\n",
    "fastq_file_paths['sample'] = fastq_file_paths['path'].str.split('map_genome/',expand=True)[1].str.replace('.Unmapped.out.fastq.gz','')\n",
    "fastq_file_paths = pd.merge(fastq_file_paths,start_samples[['sample','index_size']].rename(columns={'index_size':'expected_read_length'}),how='inner',on='sample')\n",
    "fastq_file_paths['kraken_output_file'] = fastq_file_paths['output_dir']+fastq_file_paths['sample']+'.unmapped.kraken'\n",
    "fastq_file_paths['kreport_output_file'] = fastq_file_paths['output_dir']+fastq_file_paths['sample']+'.unmapped.kreport'\n",
    "fastq_file_paths['bracken_output_file'] = fastq_file_paths['output_dir']+fastq_file_paths['sample']+'.unmapped.bracken'\n",
    "fastq_file_paths['id'] = fastq_file_paths.index+1\n",
    "fastq_file_paths[['id','path','output_dir','kraken_output_file','kreport_output_file','bracken_output_file','expected_read_length']].to_csv(sample_file_name, sep=str('\\t'),header=False,index=None)\n",
    "\n",
    "max_node_mem = 512\n",
    "mem = 100\n",
    "cpus = int(128/((max_node_mem*0.8)/mem))\n",
    "print(str(cpus))\n",
    "\n",
    "f = open(subdirs['scripts_dir']+'kraken_unmapped_reads.sbatch', \"w\")\n",
    "\n",
    "preambula = \\\n",
    "\"\"\"#!/bin/bash\n",
    "  \n",
    "#SBATCH --job-name=kraken_unmapped_reads\n",
    "#SBATCH --time=1:00:00\n",
    "#SBATCH --qos=6hours\n",
    "#SBATCH --output=\"\"\"+subdirs['slurm_dir']+\"\"\"%A_%a.out\n",
    "#SBATCH --error=\"\"\"+subdirs['slurm_dir']+\"\"\"%A_%a.err\n",
    "#SBATCH --cpus-per-task=\"\"\"+str(cpus)+\"\"\"\n",
    "#SBATCH --mem=\"\"\"+str(mem)+\"\"\"G\n",
    "#SBATCH --array=1-\"\"\"+str(len(fastq_file_paths))+\"\"\"%200\n",
    "\n",
    "source ~/.bashrc\n",
    "\"\"\"\n",
    "f.write(preambula)\n",
    "f.write(\"\"\"\n",
    "fastq_file_path=$(awk -v i=$SLURM_ARRAY_TASK_ID '{ if ($1 == i) { print $2} }' \"\"\"+sample_file_name+\"\"\")\n",
    "output_dir=$(awk -v i=$SLURM_ARRAY_TASK_ID '{ if ($1 == i) { print $3} }' \"\"\"+sample_file_name+\"\"\")\n",
    "kraken_output_file=$(awk -v i=$SLURM_ARRAY_TASK_ID '{ if ($1 == i) { print $4} }' \"\"\"+sample_file_name+\"\"\")\n",
    "kreport_output_file=$(awk -v i=$SLURM_ARRAY_TASK_ID '{ if ($1 == i) { print $5} }' \"\"\"+sample_file_name+\"\"\")\n",
    "bracken_output_file=$(awk -v i=$SLURM_ARRAY_TASK_ID '{ if ($1 == i) { print $6} }' \"\"\"+sample_file_name+\"\"\")\n",
    "expected_read_length=$(awk -v i=$SLURM_ARRAY_TASK_ID '{ if ($1 == i) { print $7} }' \"\"\"+sample_file_name+\"\"\")\n",
    "echo $fastq_file_path\n",
    "echo $output_dir\n",
    "\"\"\")\n",
    "\n",
    "command = \"\"\"mkdir -p $output_dir\"\"\"\n",
    "f.write(command+'\\n') \n",
    "\n",
    "command = \"\"\"\n",
    "kraken2 \\\n",
    "--threads \"\"\"+str(cpus)+\"\"\" \\\n",
    "--db \"\"\"+kraken_db+\"\"\" \\\n",
    "--report $kreport_output_file \\\n",
    "$fastq_file_path > \\\n",
    "$kraken_output_file\"\"\"\n",
    "f.write(command)\n",
    "\n",
    "command = \"\"\" && bracken \\\n",
    "-d \"\"\"+kraken_db+\"\"\" \\\n",
    "-i $kreport_output_file \\\n",
    "-o $bracken_output_file \\\n",
    "-r $expected_read_length -l S -t 1\n",
    "\"\"\"\n",
    "f.write(command)\n",
    "\n",
    "f.close()\n",
    "\n",
    "print('sbatch '+subdirs['scripts_dir']+'kraken_unmapped_reads.sbatch')"
   ]
  },
  {
   "cell_type": "code",
   "execution_count": 5,
   "id": "db9f54cf-96df-4174-8241-4cc20bb5b002",
   "metadata": {},
   "outputs": [
    {
     "name": "stdout",
     "output_type": "stream",
     "text": [
      "31\n",
      "sbatch /scicore/home/zavolan/GROUP/StefanieCLIP/aleksei/scripts/kraken_mapped_reads.sbatch\n"
     ]
    }
   ],
   "source": [
    "# do kraken and bracken for mapped reads\n",
    "kraken_db = '/scicore/home/zavolan/GROUP/Genomes/KRAKEN_DB/standard/'\n",
    "\n",
    "start_samples = pd.read_csv(subdirs['metadata_dir']+'start_samples.tsv',delimiter=\"\\t\",index_col=None,header=0)\n",
    "# get length estimates for samples\n",
    "l = []\n",
    "for sample in list(start_samples['name']):\n",
    "    rl = pd.read_csv(subdirs['wf_output_dir']+'samples/'+sample+'/read_length/'+sample+'.max_read_length.txt',header=None).loc[0,0]\n",
    "    l.append(rl)\n",
    "start_samples['index_size'] = l\n",
    "start_samples = start_samples.rename(columns={'name':'sample'})\n",
    "\n",
    "sample_file_name = subdirs['temp_dir']+'mapped_fastq_file_paths.tsv'\n",
    "\n",
    "os.system(\"\"\"find \"\"\"+subdirs['wf_output_dir']+\"\"\" -name '*.Aligned.sortedByCoord.out.fastq.gz' > \"\"\"+sample_file_name)\n",
    "fastq_file_paths = pd.read_csv(sample_file_name,delimiter=\"\\t\",\n",
    "                                   index_col=None,header=None)\n",
    "fastq_file_paths.columns = ['path']\n",
    "fastq_file_paths['output_dir'] = fastq_file_paths['path'].str.split('map_genome/',expand=True)[0]+'kraken/'\n",
    "fastq_file_paths['sample'] = fastq_file_paths['path'].str.split('map_genome/',expand=True)[1].str.replace('.Aligned.sortedByCoord.out.fastq.gz','')\n",
    "fastq_file_paths = pd.merge(fastq_file_paths,start_samples[['sample','index_size']].rename(columns={'index_size':'expected_read_length'}),how='inner',on='sample')\n",
    "fastq_file_paths['kraken_output_file'] = fastq_file_paths['output_dir']+fastq_file_paths['sample']+'.mapped.kraken'\n",
    "fastq_file_paths['kreport_output_file'] = fastq_file_paths['output_dir']+fastq_file_paths['sample']+'.mapped.kreport'\n",
    "fastq_file_paths['bracken_output_file'] = fastq_file_paths['output_dir']+fastq_file_paths['sample']+'.mapped.bracken'\n",
    "fastq_file_paths['id'] = fastq_file_paths.index+1\n",
    "fastq_file_paths[['id','path','output_dir','kraken_output_file','kreport_output_file','bracken_output_file','expected_read_length']].to_csv(sample_file_name, sep=str('\\t'),header=False,index=None)\n",
    "\n",
    "max_node_mem = 512\n",
    "mem = 100\n",
    "cpus = int(128/((max_node_mem*0.8)/mem))\n",
    "print(str(cpus))\n",
    "\n",
    "f = open(subdirs['scripts_dir']+'kraken_mapped_reads.sbatch', \"w\")\n",
    "\n",
    "preambula = \\\n",
    "\"\"\"#!/bin/bash\n",
    "  \n",
    "#SBATCH --job-name=kraken_mapped_reads\n",
    "#SBATCH --time=1:00:00\n",
    "#SBATCH --qos=6hours\n",
    "#SBATCH --output=\"\"\"+subdirs['slurm_dir']+\"\"\"%A_%a.out\n",
    "#SBATCH --error=\"\"\"+subdirs['slurm_dir']+\"\"\"%A_%a.err\n",
    "#SBATCH --cpus-per-task=\"\"\"+str(cpus)+\"\"\"\n",
    "#SBATCH --mem=\"\"\"+str(mem)+\"\"\"G\n",
    "#SBATCH --array=1-\"\"\"+str(len(fastq_file_paths))+\"\"\"%200\n",
    "\n",
    "source ~/.bashrc\n",
    "\"\"\"\n",
    "f.write(preambula)\n",
    "f.write(\"\"\"\n",
    "fastq_file_path=$(awk -v i=$SLURM_ARRAY_TASK_ID '{ if ($1 == i) { print $2} }' \"\"\"+sample_file_name+\"\"\")\n",
    "output_dir=$(awk -v i=$SLURM_ARRAY_TASK_ID '{ if ($1 == i) { print $3} }' \"\"\"+sample_file_name+\"\"\")\n",
    "kraken_output_file=$(awk -v i=$SLURM_ARRAY_TASK_ID '{ if ($1 == i) { print $4} }' \"\"\"+sample_file_name+\"\"\")\n",
    "kreport_output_file=$(awk -v i=$SLURM_ARRAY_TASK_ID '{ if ($1 == i) { print $5} }' \"\"\"+sample_file_name+\"\"\")\n",
    "bracken_output_file=$(awk -v i=$SLURM_ARRAY_TASK_ID '{ if ($1 == i) { print $6} }' \"\"\"+sample_file_name+\"\"\")\n",
    "expected_read_length=$(awk -v i=$SLURM_ARRAY_TASK_ID '{ if ($1 == i) { print $7} }' \"\"\"+sample_file_name+\"\"\")\n",
    "echo $fastq_file_path\n",
    "echo $output_dir\n",
    "\"\"\")\n",
    "\n",
    "command = \"\"\"mkdir -p $output_dir\"\"\"\n",
    "f.write(command+'\\n') \n",
    "\n",
    "command = \"\"\"\n",
    "kraken2 \\\n",
    "--threads \"\"\"+str(cpus)+\"\"\" \\\n",
    "--db \"\"\"+kraken_db+\"\"\" \\\n",
    "--report $kreport_output_file \\\n",
    "$fastq_file_path > \\\n",
    "$kraken_output_file\"\"\"\n",
    "f.write(command)\n",
    "\n",
    "command = \"\"\" && bracken \\\n",
    "-d \"\"\"+kraken_db+\"\"\" \\\n",
    "-i $kreport_output_file \\\n",
    "-o $bracken_output_file \\\n",
    "-r $expected_read_length -l S -t 1\n",
    "\"\"\"\n",
    "f.write(command)\n",
    "\n",
    "f.close()\n",
    "\n",
    "print('sbatch '+subdirs['scripts_dir']+'kraken_mapped_reads.sbatch')"
   ]
  },
  {
   "cell_type": "code",
   "execution_count": 36,
   "id": "0ccd2daa-e7f6-4cc7-b353-4da22fb2099e",
   "metadata": {},
   "outputs": [],
   "source": []
  }
 ],
 "metadata": {
  "kernelspec": {
   "display_name": "Python [conda env:miniconda3-py310]",
   "language": "python",
   "name": "conda-env-miniconda3-py310-py"
  },
  "language_info": {
   "codemirror_mode": {
    "name": "ipython",
    "version": 3
   },
   "file_extension": ".py",
   "mimetype": "text/x-python",
   "name": "python",
   "nbconvert_exporter": "python",
   "pygments_lexer": "ipython3",
   "version": "3.10.8"
  }
 },
 "nbformat": 4,
 "nbformat_minor": 5
}
